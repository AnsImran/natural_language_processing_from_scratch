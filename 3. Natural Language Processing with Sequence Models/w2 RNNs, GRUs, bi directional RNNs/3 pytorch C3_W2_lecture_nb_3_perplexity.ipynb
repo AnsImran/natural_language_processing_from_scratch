{
 "cells": [
  {
   "cell_type": "markdown",
   "metadata": {
    "id": "2t2AGSccNu9U"
   },
   "source": [
    "# Working with torch tensors and calculating perplexity: Ungraded Lecture Notebook"
   ]
  },
  {
   "cell_type": "code",
   "execution_count": 1,
   "metadata": {
    "id": "GuT954JXNu9b"
   },
   "outputs": [],
   "source": [
    "import numpy\n",
    "import torch\n",
    "import torch.nn.functional as F\n",
    "\n",
    "# Setting random seeds\n",
    "numpy.random.seed(32)\n"
   ]
  },
  {
   "cell_type": "code",
   "execution_count": 3,
   "metadata": {
    "colab": {
     "base_uri": "https://localhost:8080/"
    },
    "id": "S2O-2Pb4Nu9g",
    "outputId": "984ac6d1-617f-4db8-ca5d-841caf07dc3d"
   },
   "outputs": [
    {
     "name": "stdout",
     "output_type": "stream",
     "text": [
      "The regular numpy array looks like this:\n",
      "\n",
      " [[0.85888927 0.37271115 0.55512878 0.95565655 0.7366696  0.81620514\n",
      "  0.10108656 0.92848807 0.60910917 0.59655344]\n",
      " [0.09178413 0.34518624 0.66275252 0.44171349 0.55148779 0.70371249\n",
      "  0.58940123 0.04993276 0.56179184 0.76635847]\n",
      " [0.91090833 0.09290995 0.90252139 0.46096041 0.45201847 0.99942549\n",
      "  0.16242374 0.70937058 0.16062408 0.81077677]\n",
      " [0.03514717 0.53488673 0.16650012 0.30841038 0.04506241 0.23857613\n",
      "  0.67483453 0.78238275 0.69520163 0.32895445]\n",
      " [0.49403187 0.52412136 0.29854125 0.46310814 0.98478429 0.50113492\n",
      "  0.39807245 0.72790532 0.86333097 0.02616954]]\n",
      "\n",
      "It is of type: <class 'numpy.ndarray'>\n"
     ]
    }
   ],
   "source": [
    "numpy_array = numpy.random.random((5,10))\n",
    "print(f\"The regular numpy array looks like this:\\n\\n {numpy_array}\\n\")\n",
    "print(f\"It is of type: {type(numpy_array)}\")\n"
   ]
  },
  {
   "cell_type": "code",
   "execution_count": 6,
   "metadata": {
    "colab": {
     "base_uri": "https://localhost:8080/"
    },
    "id": "SPwKcxBXOOMQ",
    "outputId": "67061bc2-2969-41e2-8790-d89cb84d7fb4"
   },
   "outputs": [
    {
     "data": {
      "text/plain": [
       "dtype('float64')"
      ]
     },
     "execution_count": 6,
     "metadata": {},
     "output_type": "execute_result"
    }
   ],
   "source": [
    "numpy_array.dtype\n"
   ]
  },
  {
   "cell_type": "markdown",
   "metadata": {
    "id": "vQjEreLGNu9i"
   },
   "source": [
    "You can easily cast regular numpy arrays or lists into torch tensors using the `torch.from_numpy()` function:"
   ]
  },
  {
   "cell_type": "code",
   "execution_count": 7,
   "metadata": {
    "colab": {
     "base_uri": "https://localhost:8080/"
    },
    "id": "CxUjPrBJNu9j",
    "outputId": "829a4ef3-4b22-4dfe-a21d-25975ff4c568"
   },
   "outputs": [
    {
     "name": "stdout",
     "output_type": "stream",
     "text": [
      "The torch tensor looks like this:\n",
      "\n",
      " tensor([[0.8589, 0.3727, 0.5551, 0.9557, 0.7367, 0.8162, 0.1011, 0.9285, 0.6091,\n",
      "         0.5966],\n",
      "        [0.0918, 0.3452, 0.6628, 0.4417, 0.5515, 0.7037, 0.5894, 0.0499, 0.5618,\n",
      "         0.7664],\n",
      "        [0.9109, 0.0929, 0.9025, 0.4610, 0.4520, 0.9994, 0.1624, 0.7094, 0.1606,\n",
      "         0.8108],\n",
      "        [0.0351, 0.5349, 0.1665, 0.3084, 0.0451, 0.2386, 0.6748, 0.7824, 0.6952,\n",
      "         0.3290],\n",
      "        [0.4940, 0.5241, 0.2985, 0.4631, 0.9848, 0.5011, 0.3981, 0.7279, 0.8633,\n",
      "         0.0262]])\n",
      "\n",
      "It is of type: <class 'torch.Tensor'>\n"
     ]
    }
   ],
   "source": [
    "torch_tensor = torch.from_numpy(numpy_array).float()\n",
    "\n",
    "print(f\"The torch tensor looks like this:\\n\\n {torch_tensor}\\n\")\n",
    "print(f\"It is of type: {type(torch_tensor)}\")\n"
   ]
  },
  {
   "cell_type": "code",
   "execution_count": 8,
   "metadata": {
    "colab": {
     "base_uri": "https://localhost:8080/"
    },
    "id": "oxPqYx5-Nu9j",
    "outputId": "2fb76872-060c-4032-f6dd-db07c0cffca0"
   },
   "outputs": [
    {
     "data": {
      "text/plain": [
       "torch.float32"
      ]
     },
     "execution_count": 8,
     "metadata": {},
     "output_type": "execute_result"
    }
   ],
   "source": [
    "torch_tensor.dtype\n"
   ]
  },
  {
   "cell_type": "markdown",
   "metadata": {
    "id": "qr6GCvBlNu9n"
   },
   "source": [
    "This notebook also aims to teach you how you can calculate the perplexity of a trained model.\n"
   ]
  },
  {
   "cell_type": "markdown",
   "metadata": {
    "id": "xmfBA_0kNu9o"
   },
   "source": [
    "## Calculating Perplexity"
   ]
  },
  {
   "cell_type": "markdown",
   "metadata": {
    "id": "dNGrxLInNu9o"
   },
   "source": [
    "The perplexity is a metric that measures how well a probability model predicts a sample and it is commonly used to evaluate language models. It is defined as:\n",
    "\n",
    "$$P(W) = \\sqrt[N]{\\prod_{i=1}^{N} \\frac{1}{P(w_i| w_1,...,w_{i-1})}}$$\n",
    "\n",
    "As an implementation hack, you would usually take the log of that formula (so the computation is less prone to underflow problems). You would also need to take care of the padding, since you do not want to include the padding when calculating the perplexity (to avoid an artificially good metric).\n",
    "\n",
    "After taking the logarithm of $P(W)$ you have:\n",
    "\n",
    "$$log P(W) = {\\log\\left(\\sqrt[N]{\\prod_{i=1}^{N} \\frac{1}{P(w_i| w_1,...,w_{i-1})}}\\right)}$$\n",
    "\n",
    "\n",
    "$$ = \\log\\left(\\left(\\prod_{i=1}^{N} \\frac{1}{P(w_i| w_1,...,w_{i-1})}\\right)^{\\frac{1}{N}}\\right)$$\n",
    "\n",
    "$$ = \\log\\left(\\left({\\prod_{i=1}^{N}{P(w_i| w_1,...,w_{i-1})}}\\right)^{-\\frac{1}{N}}\\right)$$\n",
    "\n",
    "$$ = -\\frac{1}{N}{\\log\\left({\\prod_{i=1}^{N}{P(w_i| w_1,...,w_{i-1})}}\\right)} $$\n",
    "\n",
    "$$ = -\\frac{1}{N}{{\\sum_{i=1}^{N}{\\log P(w_i| w_1,...,w_{i-1})}}} $$\n"
   ]
  },
  {
   "cell_type": "markdown",
   "metadata": {
    "id": "C9w8eYXfNu9p"
   },
   "source": [
    "You will be working with a real example from this week's assignment. The example is made up of:\n",
    "   - `predictions` : log probabilities for each element in the vocabulary for 32 sequences with 64 elements (after padding).\n",
    "   - `targets` : 32 observed sequences of 64 elements (after padding)."
   ]
  },
  {
   "cell_type": "code",
   "execution_count": 34,
   "metadata": {
    "colab": {
     "base_uri": "https://localhost:8080/"
    },
    "id": "iv2iM9LZNu9p",
    "outputId": "efa87fa0-0897-4822-8df8-c1986979a8bc"
   },
   "outputs": [
    {
     "name": "stdout",
     "output_type": "stream",
     "text": [
      "predictions has shape: torch.Size([32, 64, 256])\n",
      "targets has shape: torch.Size([32, 64])\n"
     ]
    }
   ],
   "source": [
    "# Load from .npy files\n",
    "predictions = numpy.load('predictions.npy')\n",
    "targets     = numpy.load('targets.npy')\n",
    "\n",
    "# Cast to torch tensors\n",
    "predictions = torch.from_numpy(predictions)\n",
    "targets     = torch.from_numpy(targets)\n",
    "\n",
    "# Print shapes\n",
    "print(f'predictions has shape: {predictions.shape}')\n",
    "print(f'targets has shape: {targets.shape}')\n",
    "\n"
   ]
  },
  {
   "cell_type": "code",
   "execution_count": 9,
   "metadata": {
    "id": "mWx56EVNSF0k"
   },
   "outputs": [],
   "source": []
  },
  {
   "cell_type": "code",
   "execution_count": 10,
   "metadata": {
    "colab": {
     "base_uri": "https://localhost:8080/"
    },
    "id": "fQk39hm7SF3b",
    "outputId": "f10b0820-6c48-4a74-a6a1-5f7e033a22cd"
   },
   "outputs": [
    {
     "data": {
      "text/plain": [
       "torch.Size([64, 256])"
      ]
     },
     "execution_count": 10,
     "metadata": {},
     "output_type": "execute_result"
    }
   ],
   "source": [
    "predictions[0,:,:].shape"
   ]
  },
  {
   "cell_type": "code",
   "execution_count": 11,
   "metadata": {
    "colab": {
     "base_uri": "https://localhost:8080/"
    },
    "id": "xhPekjuuSF5y",
    "outputId": "998dbd11-1533-411f-e1c1-3c7d5ae50a44"
   },
   "outputs": [
    {
     "data": {
      "text/plain": [
       "tensor([[-15.5800, -25.7356, -15.5769,  ..., -15.5747, -15.5715, -15.5694],\n",
       "        [-24.0108, -35.8008, -23.7436,  ..., -23.8079, -23.7276, -23.8044],\n",
       "        [-15.7837, -14.4168, -15.5128,  ..., -15.7292, -15.6716, -15.5321],\n",
       "        ...,\n",
       "        [-22.3767, -29.0965, -22.2665,  ..., -22.1575, -22.2124, -22.2859],\n",
       "        [-23.1877, -39.6231, -23.0719,  ..., -23.0587, -22.9287, -23.1310],\n",
       "        [-21.8435, -26.0352, -21.8776,  ..., -21.5768, -21.7424, -21.6944]])"
      ]
     },
     "execution_count": 11,
     "metadata": {},
     "output_type": "execute_result"
    }
   ],
   "source": [
    "predictions[0,:,:]\n"
   ]
  },
  {
   "cell_type": "code",
   "execution_count": 12,
   "metadata": {
    "colab": {
     "base_uri": "https://localhost:8080/"
    },
    "id": "58jBG5CNTrvP",
    "outputId": "c76ae124-2cd2-4244-9459-f40e1e7accb0"
   },
   "outputs": [
    {
     "data": {
      "text/plain": [
       "torch.Size([32, 64])"
      ]
     },
     "execution_count": 12,
     "metadata": {},
     "output_type": "execute_result"
    }
   ],
   "source": [
    "targets.shape"
   ]
  },
  {
   "cell_type": "code",
   "execution_count": 13,
   "metadata": {
    "colab": {
     "base_uri": "https://localhost:8080/"
    },
    "id": "JJyW-Uw9SYp6",
    "outputId": "1b4b618e-686d-4dea-e956-18024e3d922d"
   },
   "outputs": [
    {
     "data": {
      "text/plain": [
       "tensor([105, 110,  32, 115, 117,  99, 104,  32, 100, 105, 115, 100,  97, 105,\n",
       "        110, 102, 117, 108,  32, 109,  97, 110, 110, 101, 114,  32, 109, 101,\n",
       "         32, 116, 111,  32, 119, 111, 111,  46,   1,   0,   0,   0,   0,   0,\n",
       "          0,   0,   0,   0,   0,   0,   0,   0,   0,   0,   0,   0,   0,   0,\n",
       "          0,   0,   0,   0,   0,   0,   0,   0], dtype=torch.int32)"
      ]
     },
     "execution_count": 13,
     "metadata": {},
     "output_type": "execute_result"
    }
   ],
   "source": [
    "targets[0,:]\n"
   ]
  },
  {
   "cell_type": "code",
   "execution_count": null,
   "metadata": {
    "id": "KvoV-wC5DyLV"
   },
   "outputs": [],
   "source": []
  },
  {
   "cell_type": "code",
   "execution_count": 16,
   "metadata": {
    "colab": {
     "base_uri": "https://localhost:8080/"
    },
    "id": "0bCVr1tFShfj",
    "outputId": "feafc9fa-ee46-49e8-9d60-f90d46d4de6c"
   },
   "outputs": [
    {
     "name": "stdout",
     "output_type": "stream",
     "text": [
      "reshaped_targets has shape: torch.Size([5, 4])\n"
     ]
    }
   ],
   "source": [
    "# import torch\n",
    "# import torch.nn.functional as F\n",
    "\n",
    "# Example tensors\n",
    "targets_     = torch.tensor([0, 2, 1, 3, 0])\n",
    "predictions_ = torch.randn(5, 4)  # Random predictions tensor with shape [batch_size, num_classes]\n",
    "\n",
    "# Convert targets to one-hot encoding\n",
    "reshaped_targets_ = F.one_hot(targets_, num_classes=predictions_.shape[-1])\n",
    "\n",
    "print(f'reshaped_targets has shape: {reshaped_targets_.shape}')\n"
   ]
  },
  {
   "cell_type": "code",
   "execution_count": 17,
   "metadata": {
    "colab": {
     "base_uri": "https://localhost:8080/"
    },
    "id": "OFx7Wav2Shh-",
    "outputId": "9e4dd4f2-7856-48ff-9a85-7d66483fb54d"
   },
   "outputs": [
    {
     "data": {
      "text/plain": [
       "tensor([[1, 0, 0, 0],\n",
       "        [0, 0, 1, 0],\n",
       "        [0, 1, 0, 0],\n",
       "        [0, 0, 0, 1],\n",
       "        [1, 0, 0, 0]])"
      ]
     },
     "execution_count": 17,
     "metadata": {},
     "output_type": "execute_result"
    }
   ],
   "source": [
    "reshaped_targets_\n"
   ]
  },
  {
   "cell_type": "code",
   "execution_count": 18,
   "metadata": {
    "colab": {
     "base_uri": "https://localhost:8080/"
    },
    "id": "NURr6rexShkg",
    "outputId": "ffb9e369-280c-41d8-9b6d-a7a57b80f1c5"
   },
   "outputs": [
    {
     "data": {
      "text/plain": [
       "tensor([[-0.0048,  0.2567, -0.2345, -0.0077],\n",
       "        [ 0.9892,  1.3906, -1.2490,  0.2552],\n",
       "        [-0.9308, -1.9889,  0.4647, -0.2742],\n",
       "        [-0.4462, -0.7178, -1.8211,  2.3688],\n",
       "        [ 1.7213, -0.5217, -0.1385,  1.1919]])"
      ]
     },
     "execution_count": 18,
     "metadata": {},
     "output_type": "execute_result"
    }
   ],
   "source": [
    "predictions_\n"
   ]
  },
  {
   "cell_type": "code",
   "execution_count": 18,
   "metadata": {
    "id": "IcC_hwN9Shn9"
   },
   "outputs": [],
   "source": []
  },
  {
   "cell_type": "markdown",
   "metadata": {
    "id": "l-OvivX8Nu9q"
   },
   "source": [
    "Notice that the predictions have an extra dimension with the same length as the size of the vocabulary used.\n",
    "\n",
    "Because of this you will need a way of reshaping `targets` to match this shape. For this you can use `trax.layers.one_hot()`.\n",
    "\n",
    "Notice that `predictions.shape[-1]` will return the size of the last dimension of `predictions`."
   ]
  },
  {
   "cell_type": "code",
   "execution_count": 35,
   "metadata": {
    "colab": {
     "base_uri": "https://localhost:8080/"
    },
    "id": "Av6hyLyvTQ4X",
    "outputId": "d55bd4ee-0ca4-4984-d51c-c0a0e930bd52"
   },
   "outputs": [
    {
     "name": "stdout",
     "output_type": "stream",
     "text": [
      "reshaped_targets has shape: torch.Size([32, 64, 256])\n"
     ]
    }
   ],
   "source": [
    "\n",
    "targets = targets.to(torch.int64)\n",
    "# Convert targets to one-hot encoding\n",
    "reshaped_targets = F.one_hot(targets, num_classes=predictions.shape[-1])\n",
    "print(f'reshaped_targets has shape: {reshaped_targets.shape}')\n"
   ]
  },
  {
   "cell_type": "code",
   "execution_count": 19,
   "metadata": {
    "id": "xgksYJpdUb71"
   },
   "outputs": [],
   "source": []
  },
  {
   "cell_type": "code",
   "execution_count": 20,
   "metadata": {
    "colab": {
     "base_uri": "https://localhost:8080/"
    },
    "id": "EK4-QwQ3Ub-k",
    "outputId": "908bc590-690d-4549-9f45-1078db8587b7"
   },
   "outputs": [
    {
     "data": {
      "text/plain": [
       "torch.Size([32, 64, 256])"
      ]
     },
     "execution_count": 20,
     "metadata": {},
     "output_type": "execute_result"
    }
   ],
   "source": [
    "reshaped_targets.shape\n"
   ]
  },
  {
   "cell_type": "code",
   "execution_count": 21,
   "metadata": {
    "colab": {
     "base_uri": "https://localhost:8080/"
    },
    "id": "VLEkByGyUcB6",
    "outputId": "e320b57b-12fa-495c-9e87-231c8d3b8b91"
   },
   "outputs": [
    {
     "data": {
      "text/plain": [
       "torch.Size([64, 256])"
      ]
     },
     "execution_count": 21,
     "metadata": {},
     "output_type": "execute_result"
    }
   ],
   "source": [
    "reshaped_targets[0,:,:].shape"
   ]
  },
  {
   "cell_type": "code",
   "execution_count": 22,
   "metadata": {
    "colab": {
     "base_uri": "https://localhost:8080/"
    },
    "id": "vqjB4hzTUcSD",
    "outputId": "3169b8dc-1e27-4837-9fc2-96db5c890bd8"
   },
   "outputs": [
    {
     "name": "stdout",
     "output_type": "stream",
     "text": [
      "tensor([[0, 0, 0,  ..., 0, 0, 0],\n",
      "        [0, 0, 0,  ..., 0, 0, 0],\n",
      "        [0, 0, 0,  ..., 0, 0, 0],\n",
      "        ...,\n",
      "        [1, 0, 0,  ..., 0, 0, 0],\n",
      "        [1, 0, 0,  ..., 0, 0, 0],\n",
      "        [1, 0, 0,  ..., 0, 0, 0]])\n"
     ]
    }
   ],
   "source": [
    "print(reshaped_targets[0,:,:])\n"
   ]
  },
  {
   "cell_type": "code",
   "execution_count": 52,
   "metadata": {
    "colab": {
     "base_uri": "https://localhost:8080/"
    },
    "id": "K7c9d1q8EKM9",
    "outputId": "436b4554-f5ce-4825-c4c4-f3911496856b"
   },
   "outputs": [
    {
     "data": {
      "text/plain": [
       "torch.Size([32, 64])"
      ]
     },
     "execution_count": 52,
     "metadata": {},
     "output_type": "execute_result"
    }
   ],
   "source": [
    "targets.shape"
   ]
  },
  {
   "cell_type": "code",
   "execution_count": 54,
   "metadata": {
    "colab": {
     "base_uri": "https://localhost:8080/"
    },
    "id": "JpH7OadUKTnu",
    "outputId": "8e873433-a8b3-4763-83c7-84a8b5bdeae2"
   },
   "outputs": [
    {
     "data": {
      "text/plain": [
       "tensor([105, 110,  32, 115, 117,  99, 104,  32, 100, 105, 115, 100,  97, 105,\n",
       "        110, 102, 117, 108,  32, 109,  97, 110, 110, 101, 114,  32, 109, 101,\n",
       "         32, 116, 111,  32, 119, 111, 111,  46,   1,   0,   0,   0,   0,   0,\n",
       "          0,   0,   0,   0,   0,   0,   0,   0,   0,   0,   0,   0,   0,   0,\n",
       "          0,   0,   0,   0,   0,   0,   0,   0])"
      ]
     },
     "execution_count": 54,
     "metadata": {},
     "output_type": "execute_result"
    }
   ],
   "source": [
    "targets[0,:]\n"
   ]
  },
  {
   "cell_type": "code",
   "execution_count": 55,
   "metadata": {
    "colab": {
     "base_uri": "https://localhost:8080/"
    },
    "id": "C88qwomJKTqL",
    "outputId": "33a83f22-585c-4a3d-e0e7-19206e74b64f"
   },
   "outputs": [
    {
     "data": {
      "text/plain": [
       "tensor([[0, 0, 0,  ..., 0, 0, 0],\n",
       "        [0, 0, 0,  ..., 0, 0, 0],\n",
       "        [0, 0, 0,  ..., 0, 0, 0],\n",
       "        ...,\n",
       "        [1, 0, 0,  ..., 0, 0, 0],\n",
       "        [1, 0, 0,  ..., 0, 0, 0],\n",
       "        [1, 0, 0,  ..., 0, 0, 0]])"
      ]
     },
     "execution_count": 55,
     "metadata": {},
     "output_type": "execute_result"
    }
   ],
   "source": [
    "F.one_hot(targets[0,:], num_classes=256)\n"
   ]
  },
  {
   "cell_type": "code",
   "execution_count": 56,
   "metadata": {
    "colab": {
     "base_uri": "https://localhost:8080/"
    },
    "id": "SdzVzXEoKTsk",
    "outputId": "0337dfee-88bd-422a-e243-30c88e5c203a"
   },
   "outputs": [
    {
     "data": {
      "text/plain": [
       "torch.Size([64, 256])"
      ]
     },
     "execution_count": 56,
     "metadata": {},
     "output_type": "execute_result"
    }
   ],
   "source": [
    "F.one_hot(targets[0,:], num_classes=256).shape\n"
   ]
  },
  {
   "cell_type": "code",
   "execution_count": 57,
   "metadata": {
    "colab": {
     "base_uri": "https://localhost:8080/"
    },
    "id": "UZj1cBunKTu4",
    "outputId": "28de13fa-eff6-4b04-f017-c292801a5ebc"
   },
   "outputs": [
    {
     "data": {
      "text/plain": [
       "tensor([0, 0, 0, 0, 0, 0, 0, 0, 0, 0, 0, 0, 0, 0, 0, 0, 0, 0, 0, 0, 0, 0, 0, 0,\n",
       "        0, 0, 0, 0, 0, 0, 0, 0, 0, 0, 0, 0, 0, 0, 0, 0, 0, 0, 0, 0, 0, 0, 0, 0,\n",
       "        0, 0, 0, 0, 0, 0, 0, 0, 0, 0, 0, 0, 0, 0, 0, 0, 0, 0, 0, 0, 0, 0, 0, 0,\n",
       "        0, 0, 0, 0, 0, 0, 0, 0, 0, 0, 0, 0, 0, 0, 0, 0, 0, 0, 0, 0, 0, 0, 0, 0,\n",
       "        0, 0, 0, 0, 0, 0, 0, 0, 0, 1, 0, 0, 0, 0, 0, 0, 0, 0, 0, 0, 0, 0, 0, 0,\n",
       "        0, 0, 0, 0, 0, 0, 0, 0, 0, 0, 0, 0, 0, 0, 0, 0, 0, 0, 0, 0, 0, 0, 0, 0,\n",
       "        0, 0, 0, 0, 0, 0, 0, 0, 0, 0, 0, 0, 0, 0, 0, 0, 0, 0, 0, 0, 0, 0, 0, 0,\n",
       "        0, 0, 0, 0, 0, 0, 0, 0, 0, 0, 0, 0, 0, 0, 0, 0, 0, 0, 0, 0, 0, 0, 0, 0,\n",
       "        0, 0, 0, 0, 0, 0, 0, 0, 0, 0, 0, 0, 0, 0, 0, 0, 0, 0, 0, 0, 0, 0, 0, 0,\n",
       "        0, 0, 0, 0, 0, 0, 0, 0, 0, 0, 0, 0, 0, 0, 0, 0, 0, 0, 0, 0, 0, 0, 0, 0,\n",
       "        0, 0, 0, 0, 0, 0, 0, 0, 0, 0, 0, 0, 0, 0, 0, 0])"
      ]
     },
     "execution_count": 57,
     "metadata": {},
     "output_type": "execute_result"
    }
   ],
   "source": [
    "F.one_hot(targets[0,:], num_classes=256)[0,:]"
   ]
  },
  {
   "cell_type": "code",
   "execution_count": 58,
   "metadata": {
    "colab": {
     "base_uri": "https://localhost:8080/"
    },
    "id": "XMeSdDIoKTyD",
    "outputId": "6a33d982-754c-49b4-aaaa-941f9b0b2a54"
   },
   "outputs": [
    {
     "data": {
      "text/plain": [
       "tensor([1, 0, 0, 0, 0, 0, 0, 0, 0, 0, 0, 0, 0, 0, 0, 0, 0, 0, 0, 0, 0, 0, 0, 0,\n",
       "        0, 0, 0, 0, 0, 0, 0, 0, 0, 0, 0, 0, 0, 0, 0, 0, 0, 0, 0, 0, 0, 0, 0, 0,\n",
       "        0, 0, 0, 0, 0, 0, 0, 0, 0, 0, 0, 0, 0, 0, 0, 0, 0, 0, 0, 0, 0, 0, 0, 0,\n",
       "        0, 0, 0, 0, 0, 0, 0, 0, 0, 0, 0, 0, 0, 0, 0, 0, 0, 0, 0, 0, 0, 0, 0, 0,\n",
       "        0, 0, 0, 0, 0, 0, 0, 0, 0, 0, 0, 0, 0, 0, 0, 0, 0, 0, 0, 0, 0, 0, 0, 0,\n",
       "        0, 0, 0, 0, 0, 0, 0, 0, 0, 0, 0, 0, 0, 0, 0, 0, 0, 0, 0, 0, 0, 0, 0, 0,\n",
       "        0, 0, 0, 0, 0, 0, 0, 0, 0, 0, 0, 0, 0, 0, 0, 0, 0, 0, 0, 0, 0, 0, 0, 0,\n",
       "        0, 0, 0, 0, 0, 0, 0, 0, 0, 0, 0, 0, 0, 0, 0, 0, 0, 0, 0, 0, 0, 0, 0, 0,\n",
       "        0, 0, 0, 0, 0, 0, 0, 0, 0, 0, 0, 0, 0, 0, 0, 0, 0, 0, 0, 0, 0, 0, 0, 0,\n",
       "        0, 0, 0, 0, 0, 0, 0, 0, 0, 0, 0, 0, 0, 0, 0, 0, 0, 0, 0, 0, 0, 0, 0, 0,\n",
       "        0, 0, 0, 0, 0, 0, 0, 0, 0, 0, 0, 0, 0, 0, 0, 0])"
      ]
     },
     "execution_count": 58,
     "metadata": {},
     "output_type": "execute_result"
    }
   ],
   "source": [
    "F.one_hot(targets[0,:], num_classes=256)[-1,:]"
   ]
  },
  {
   "cell_type": "code",
   "execution_count": 59,
   "metadata": {
    "colab": {
     "base_uri": "https://localhost:8080/"
    },
    "id": "IU4Q5dhnUcVo",
    "outputId": "ef4a8edf-205f-4d8c-93c8-2616c29c4d18"
   },
   "outputs": [
    {
     "data": {
      "text/plain": [
       "tensor([1, 0, 0, 0, 0, 0, 0, 0, 0, 0, 0, 0, 0, 0, 0, 0, 0, 0, 0, 0, 0, 0, 0, 0,\n",
       "        0, 0, 0, 0, 0, 0, 0, 0, 0, 0, 0, 0, 0, 0, 0, 0, 0, 0, 0, 0, 0, 0, 0, 0,\n",
       "        0, 0, 0, 0, 0, 0, 0, 0, 0, 0, 0, 0, 0, 0, 0, 0, 0, 0, 0, 0, 0, 0, 0, 0,\n",
       "        0, 0, 0, 0, 0, 0, 0, 0, 0, 0, 0, 0, 0, 0, 0, 0, 0, 0, 0, 0, 0, 0, 0, 0,\n",
       "        0, 0, 0, 0, 0, 0, 0, 0, 0, 0, 0, 0, 0, 0, 0, 0, 0, 0, 0, 0, 0, 0, 0, 0,\n",
       "        0, 0, 0, 0, 0, 0, 0, 0, 0, 0, 0, 0, 0, 0, 0, 0, 0, 0, 0, 0, 0, 0, 0, 0,\n",
       "        0, 0, 0, 0, 0, 0, 0, 0, 0, 0, 0, 0, 0, 0, 0, 0, 0, 0, 0, 0, 0, 0, 0, 0,\n",
       "        0, 0, 0, 0, 0, 0, 0, 0, 0, 0, 0, 0, 0, 0, 0, 0, 0, 0, 0, 0, 0, 0, 0, 0,\n",
       "        0, 0, 0, 0, 0, 0, 0, 0, 0, 0, 0, 0, 0, 0, 0, 0, 0, 0, 0, 0, 0, 0, 0, 0,\n",
       "        0, 0, 0, 0, 0, 0, 0, 0, 0, 0, 0, 0, 0, 0, 0, 0, 0, 0, 0, 0, 0, 0, 0, 0,\n",
       "        0, 0, 0, 0, 0, 0, 0, 0, 0, 0, 0, 0, 0, 0, 0, 0])"
      ]
     },
     "execution_count": 59,
     "metadata": {},
     "output_type": "execute_result"
    }
   ],
   "source": [
    "F.one_hot(targets[0,:], num_classes=256)[-2,:]"
   ]
  },
  {
   "cell_type": "code",
   "execution_count": 60,
   "metadata": {
    "colab": {
     "base_uri": "https://localhost:8080/"
    },
    "id": "QEL-GyzmLJaO",
    "outputId": "3bd121b6-2608-4f91-b4d0-a56cb7dee19c"
   },
   "outputs": [
    {
     "data": {
      "text/plain": [
       "tensor([0, 1, 0, 0, 0, 0, 0, 0, 0, 0, 0, 0, 0, 0, 0, 0, 0, 0, 0, 0, 0, 0, 0, 0,\n",
       "        0, 0, 0, 0, 0, 0, 0, 0, 0, 0, 0, 0, 0, 0, 0, 0, 0, 0, 0, 0, 0, 0, 0, 0,\n",
       "        0, 0, 0, 0, 0, 0, 0, 0, 0, 0, 0, 0, 0, 0, 0, 0, 0, 0, 0, 0, 0, 0, 0, 0,\n",
       "        0, 0, 0, 0, 0, 0, 0, 0, 0, 0, 0, 0, 0, 0, 0, 0, 0, 0, 0, 0, 0, 0, 0, 0,\n",
       "        0, 0, 0, 0, 0, 0, 0, 0, 0, 0, 0, 0, 0, 0, 0, 0, 0, 0, 0, 0, 0, 0, 0, 0,\n",
       "        0, 0, 0, 0, 0, 0, 0, 0, 0, 0, 0, 0, 0, 0, 0, 0, 0, 0, 0, 0, 0, 0, 0, 0,\n",
       "        0, 0, 0, 0, 0, 0, 0, 0, 0, 0, 0, 0, 0, 0, 0, 0, 0, 0, 0, 0, 0, 0, 0, 0,\n",
       "        0, 0, 0, 0, 0, 0, 0, 0, 0, 0, 0, 0, 0, 0, 0, 0, 0, 0, 0, 0, 0, 0, 0, 0,\n",
       "        0, 0, 0, 0, 0, 0, 0, 0, 0, 0, 0, 0, 0, 0, 0, 0, 0, 0, 0, 0, 0, 0, 0, 0,\n",
       "        0, 0, 0, 0, 0, 0, 0, 0, 0, 0, 0, 0, 0, 0, 0, 0, 0, 0, 0, 0, 0, 0, 0, 0,\n",
       "        0, 0, 0, 0, 0, 0, 0, 0, 0, 0, 0, 0, 0, 0, 0, 0])"
      ]
     },
     "execution_count": 60,
     "metadata": {},
     "output_type": "execute_result"
    }
   ],
   "source": [
    "F.one_hot(targets[0,:], num_classes=256)[-28,:]\n"
   ]
  },
  {
   "cell_type": "code",
   "execution_count": null,
   "metadata": {
    "id": "bHfsVspaLJml"
   },
   "outputs": [],
   "source": []
  },
  {
   "cell_type": "markdown",
   "metadata": {
    "id": "TBMC-YAoNu9r"
   },
   "source": []
  },
  {
   "cell_type": "code",
   "execution_count": null,
   "metadata": {
    "id": "g25JsUASFFnj"
   },
   "outputs": [],
   "source": []
  },
  {
   "cell_type": "code",
   "execution_count": 25,
   "metadata": {
    "colab": {
     "base_uri": "https://localhost:8080/"
    },
    "id": "gELePXUJFFyC",
    "outputId": "07d80629-5e71-4059-8df4-c93af57e9722"
   },
   "outputs": [
    {
     "name": "stdout",
     "output_type": "stream",
     "text": [
      "Predictions:\n",
      "[[[0.2 0.5 0.3]\n",
      "  [0.1 0.6 0.3]]\n",
      "\n",
      " [[0.4 0.4 0.2]\n",
      "  [0.3 0.3 0.4]]]\n",
      "\n",
      "Reshaped Targets:\n",
      "[[[0 1 0]\n",
      "  [1 0 0]]\n",
      "\n",
      " [[0 0 1]\n",
      "  [1 0 0]]]\n",
      "\n",
      "Multiplied (Element-wise):\n",
      "[[[0.  0.5 0. ]\n",
      "  [0.1 0.  0. ]]\n",
      "\n",
      " [[0.  0.  0.2]\n",
      "  [0.3 0.  0. ]]]\n",
      "\n",
      "log_p (Sum along axis=-1):\n",
      "[[0.5 0.1]\n",
      " [0.2 0.3]]\n"
     ]
    }
   ],
   "source": [
    "import numpy\n",
    "\n",
    "# Define the 3D arrays for predictions_ and reshaped_targets_\n",
    "predictions_ = numpy.array([[[0.2, 0.5, 0.3],\n",
    "                             [0.1, 0.6, 0.3]],\n",
    "\n",
    "                            [[0.4, 0.4, 0.2],\n",
    "                             [0.3, 0.3, 0.4]]])\n",
    "\n",
    "reshaped_targets_ = numpy.array([[[0, 1, 0],\n",
    "                                  [1, 0, 0]],\n",
    "\n",
    "                                 [[0, 0, 1],\n",
    "                                  [1, 0, 0]]])\n",
    "\n",
    "# Compute the element-wise multiplication\n",
    "multiplied_ = predictions_ * reshaped_targets_\n",
    "\n",
    "# Sum along the last axis (axis=-1) to get the probabilities of the true classes\n",
    "log_p_ = numpy.sum(multiplied_, axis=-1)\n",
    "\n",
    "# Print the results\n",
    "print(\"Predictions:\")\n",
    "print(predictions_)\n",
    "print(\"\\nReshaped Targets:\")\n",
    "print(reshaped_targets_)\n",
    "print(\"\\nMultiplied (Element-wise):\")\n",
    "print(multiplied_)\n",
    "print(\"\\nlog_p (Sum along axis=-1):\")\n",
    "print(log_p_)\n"
   ]
  },
  {
   "cell_type": "code",
   "execution_count": 26,
   "metadata": {
    "colab": {
     "base_uri": "https://localhost:8080/"
    },
    "id": "ZJBXW_AHFF1f",
    "outputId": "fed33871-982c-489c-84d1-b9bb5876701e"
   },
   "outputs": [
    {
     "data": {
      "text/plain": [
       "(2, 2, 3)"
      ]
     },
     "execution_count": 26,
     "metadata": {},
     "output_type": "execute_result"
    }
   ],
   "source": [
    "predictions_.shape"
   ]
  },
  {
   "cell_type": "code",
   "execution_count": 32,
   "metadata": {
    "colab": {
     "base_uri": "https://localhost:8080/"
    },
    "id": "QZxPUp6_Guuo",
    "outputId": "2a9699f0-f945-4885-af1c-e50d089fa50c"
   },
   "outputs": [
    {
     "data": {
      "text/plain": [
       "(2, 2)"
      ]
     },
     "execution_count": 32,
     "metadata": {},
     "output_type": "execute_result"
    }
   ],
   "source": [
    "log_p_.shape\n"
   ]
  },
  {
   "cell_type": "code",
   "execution_count": null,
   "metadata": {
    "id": "dHZ5obsnGAUL"
   },
   "outputs": [],
   "source": []
  },
  {
   "cell_type": "markdown",
   "metadata": {
    "id": "K82vdtKPHHnm"
   },
   "source": [
    "By calculating the product of the predictions and the reshaped targets and summing across the last dimension, the total log propbability of each observed element within the sequences can be computed:"
   ]
  },
  {
   "cell_type": "code",
   "execution_count": 36,
   "metadata": {
    "colab": {
     "base_uri": "https://localhost:8080/"
    },
    "id": "N3z2OnTWNu9r",
    "outputId": "951b20eb-4945-4999-ab0a-f1a892770fb3"
   },
   "outputs": [
    {
     "data": {
      "text/plain": [
       "tensor([[ -5.3965,  -1.0311,  -0.6692,  ..., -22.3767, -23.1877, -21.8435],\n",
       "        [ -4.5858,  -1.1341,  -8.5380,  ..., -20.1569, -26.8371, -23.5750],\n",
       "        [ -5.2224,  -1.2824,  -0.1731,  ..., -21.3282, -19.8544, -33.8844],\n",
       "        ...,\n",
       "        [ -5.3965, -17.2917,  -4.3608,  ..., -20.8258, -21.0658, -22.4431],\n",
       "        [ -5.9313, -14.2474,  -0.2637,  ..., -26.7432, -18.3843, -22.3553],\n",
       "        [ -5.6705,  -0.1060,   0.0000,  ..., -23.3325, -28.0874, -23.8788]])"
      ]
     },
     "execution_count": 36,
     "metadata": {},
     "output_type": "execute_result"
    }
   ],
   "source": [
    "log_p = torch.sum(predictions * reshaped_targets, axis= -1)\n",
    "log_p\n",
    "# ye jo cost function main log probability use hoti hay\n"
   ]
  },
  {
   "cell_type": "code",
   "execution_count": 30,
   "metadata": {
    "colab": {
     "base_uri": "https://localhost:8080/"
    },
    "id": "QysbJpgdGpgg",
    "outputId": "d045166e-3519-4d5c-b647-d7986f721298"
   },
   "outputs": [
    {
     "data": {
      "text/plain": [
       "torch.Size([32, 64])"
      ]
     },
     "execution_count": 30,
     "metadata": {},
     "output_type": "execute_result"
    }
   ],
   "source": [
    "log_p.shape\n"
   ]
  },
  {
   "cell_type": "code",
   "execution_count": 61,
   "metadata": {
    "colab": {
     "base_uri": "https://localhost:8080/"
    },
    "id": "FDWmUMbQMWRT",
    "outputId": "a40f106f-5cd6-4e66-c1fc-aacd64e1d156"
   },
   "outputs": [
    {
     "data": {
      "text/plain": [
       "tensor([-5.3965e+00, -1.0311e+00, -6.6917e-01, -3.0611e+00, -1.5259e+00,\n",
       "        -2.9263e-02, -4.7684e-05, -5.9128e-05, -1.8858e+00, -1.3325e-01,\n",
       "        -7.4234e-02, -6.0565e+00, -3.6373e-03, -3.4332e-05, -1.1921e-03,\n",
       "        -2.2745e-01, -9.1667e-03,  0.0000e+00, -7.5340e-04, -4.2465e+00,\n",
       "        -4.9812e-01, -1.8959e-03, -3.0287e+00, -1.9073e-06, -9.1553e-04,\n",
       "        -2.7161e+00, -4.0007e+00, -2.0192e+00, -2.2533e-01, -1.1322e+00,\n",
       "        -2.1546e+00, -2.7493e-02, -5.1561e+00, -6.8018e-01, -7.8403e-01,\n",
       "        -7.3942e+00, -1.2638e-02, -2.9633e+01, -1.6817e+01, -2.1895e+01,\n",
       "        -1.7741e+01, -1.7966e+01, -2.4173e+01, -2.0454e+01, -2.3524e+01,\n",
       "        -2.6218e+01, -2.5755e+01, -1.9525e+01, -2.3176e+01, -2.2120e+01,\n",
       "        -2.4267e+01, -2.2434e+01, -2.4107e+01, -2.3433e+01, -2.3169e+01,\n",
       "        -2.2986e+01, -2.1350e+01, -2.3652e+01, -2.5622e+01, -2.5208e+01,\n",
       "        -2.3868e+01, -2.2377e+01, -2.3188e+01, -2.1843e+01])"
      ]
     },
     "execution_count": 61,
     "metadata": {},
     "output_type": "execute_result"
    }
   ],
   "source": [
    "log_p[0,:]\n"
   ]
  },
  {
   "cell_type": "code",
   "execution_count": 62,
   "metadata": {
    "colab": {
     "base_uri": "https://localhost:8080/"
    },
    "id": "vCRi5aNwMyh_",
    "outputId": "0261c18a-a473-48c1-cc07-81ff2ef00943"
   },
   "outputs": [
    {
     "data": {
      "text/plain": [
       "tensor([-5.6705e+00, -1.0595e-01,  0.0000e+00, -1.0608e+00, -1.6447e+00,\n",
       "        -1.2009e+00, -3.8147e-06, -1.4402e-02, -3.8453e+00, -1.6022e-04,\n",
       "        -1.1399e+00, -4.3221e-03, -4.1688e+00, -6.3017e-01, -6.8665e-04,\n",
       "        -5.5828e-03,  0.0000e+00, -2.0252e-02, -8.0509e-01, -7.0782e-03,\n",
       "        -3.8567e-03, -3.0117e-03, -3.8392e+00, -1.2981e+00, -7.8469e+00,\n",
       "        -2.7008e-03, -2.7377e+00, -2.6719e+00, -2.0596e-02, -5.0461e-02,\n",
       "         0.0000e+00,  0.0000e+00, -3.2772e-02, -5.2420e+00, -3.9330e-03,\n",
       "        -5.1044e-02, -3.7328e-01, -3.8471e+00, -2.3570e+00, -2.9188e-02,\n",
       "        -3.0518e-05, -2.6070e-02, -7.2814e-01, -3.8486e-01, -7.2529e-02,\n",
       "        -2.2230e+00, -8.4734e+00, -1.9027e+01, -2.2784e+01, -1.8997e+01,\n",
       "        -2.2537e+01, -2.5025e+01, -2.4043e+01, -2.2277e+01, -2.9224e+01,\n",
       "        -2.5706e+01, -2.2654e+01, -3.1554e+01, -2.4682e+01, -2.6260e+01,\n",
       "        -2.7990e+01, -2.3333e+01, -2.8087e+01, -2.3879e+01])"
      ]
     },
     "execution_count": 62,
     "metadata": {},
     "output_type": "execute_result"
    }
   ],
   "source": [
    "log_p[-1,:]\n"
   ]
  },
  {
   "cell_type": "code",
   "execution_count": null,
   "metadata": {
    "id": "GfWY-X0JMf9h"
   },
   "outputs": [],
   "source": []
  },
  {
   "cell_type": "markdown",
   "metadata": {
    "id": "bshyOWnONu9r"
   },
   "source": [
    "Now you will need to account for the padding so this metric is not artificially deflated (since a lower perplexity means a better model). For identifying which elements are padding and which are not, you can use `np.equal()` and get a tensor with `1s` in the positions of actual values and `0s` where there are paddings."
   ]
  },
  {
   "cell_type": "code",
   "execution_count": null,
   "metadata": {
    "id": "WEy-Ee8XH0b7"
   },
   "outputs": [],
   "source": []
  },
  {
   "cell_type": "code",
   "execution_count": 37,
   "metadata": {
    "colab": {
     "base_uri": "https://localhost:8080/"
    },
    "id": "qUQ77eKmH0d6",
    "outputId": "62349b09-82fa-42e6-c8cb-11e36b5bbe69"
   },
   "outputs": [
    {
     "name": "stdout",
     "output_type": "stream",
     "text": [
      "Targets:\n",
      "tensor([[1, 0, 2],\n",
      "        [0, 3, 4]])\n",
      "\n",
      "Non-pad Mask:\n",
      "tensor([[1., 0., 1.],\n",
      "        [0., 1., 1.]])\n"
     ]
    }
   ],
   "source": [
    "import torch\n",
    "\n",
    "# Define the 2D tensor for targets\n",
    "targets_ = torch.tensor([[1, 0, 2],\n",
    "                        [0, 3, 4]])\n",
    "\n",
    "# Compute the non-pad mask\n",
    "non_pad_ = 1.0 - torch.eq(targets_, 0).float()\n",
    "\n",
    "# Print the results\n",
    "print(\"Targets:\")\n",
    "print(targets_)\n",
    "print(\"\\nNon-pad Mask:\")\n",
    "print(non_pad_)\n"
   ]
  },
  {
   "cell_type": "code",
   "execution_count": 42,
   "metadata": {
    "colab": {
     "base_uri": "https://localhost:8080/"
    },
    "id": "V96XP-wTIkw6",
    "outputId": "2b81c841-0e21-4b8e-8750-f16e1e72973e"
   },
   "outputs": [
    {
     "data": {
      "text/plain": [
       "tensor([[False,  True, False],\n",
       "        [ True, False, False]])"
      ]
     },
     "execution_count": 42,
     "metadata": {},
     "output_type": "execute_result"
    }
   ],
   "source": [
    "torch.eq(targets_, 0)\n"
   ]
  },
  {
   "cell_type": "code",
   "execution_count": null,
   "metadata": {
    "id": "VDnYmBcaH0ha"
   },
   "outputs": [],
   "source": []
  },
  {
   "cell_type": "code",
   "execution_count": 44,
   "metadata": {
    "colab": {
     "base_uri": "https://localhost:8080/"
    },
    "id": "jkLD2himNu9r",
    "outputId": "cd5daa5c-27f3-4d82-f6ce-e332249954eb"
   },
   "outputs": [
    {
     "name": "stdout",
     "output_type": "stream",
     "text": [
      "non_pad has shape: torch.Size([32, 64])\n",
      "\n",
      "non_pad looks like this: \n",
      "\n",
      " tensor([[1., 1., 1.,  ..., 0., 0., 0.],\n",
      "        [1., 1., 1.,  ..., 0., 0., 0.],\n",
      "        [1., 1., 1.,  ..., 0., 0., 0.],\n",
      "        ...,\n",
      "        [1., 1., 1.,  ..., 0., 0., 0.],\n",
      "        [1., 1., 1.,  ..., 0., 0., 0.],\n",
      "        [1., 1., 1.,  ..., 0., 0., 0.]])\n"
     ]
    }
   ],
   "source": [
    "non_pad = 1.0 - torch.eq(targets, 0).float()\n",
    "print(f'non_pad has shape: {non_pad.shape}\\n')\n",
    "print(f'non_pad looks like this: \\n\\n {non_pad}')\n"
   ]
  },
  {
   "cell_type": "code",
   "execution_count": 45,
   "metadata": {
    "colab": {
     "base_uri": "https://localhost:8080/"
    },
    "id": "y7RHS0hpIW3t",
    "outputId": "d713260a-6931-48d0-dd02-75be8151c973"
   },
   "outputs": [
    {
     "data": {
      "text/plain": [
       "tensor([[105, 110,  32,  ...,   0,   0,   0],\n",
       "        [ 97, 110, 110,  ...,   0,   0,   0],\n",
       "        [111, 102,  32,  ...,   0,   0,   0],\n",
       "        ...,\n",
       "        [105,  32,  97,  ...,   0,   0,   0],\n",
       "        [101, 100, 103,  ...,   0,   0,   0],\n",
       "        [121, 111, 117,  ...,   0,   0,   0]])"
      ]
     },
     "execution_count": 45,
     "metadata": {},
     "output_type": "execute_result"
    }
   ],
   "source": [
    "targets\n"
   ]
  },
  {
   "cell_type": "code",
   "execution_count": 47,
   "metadata": {
    "colab": {
     "base_uri": "https://localhost:8080/"
    },
    "id": "NyQKKSKoJZEX",
    "outputId": "34959d21-937d-4b74-c1bc-442d226a52da"
   },
   "outputs": [
    {
     "data": {
      "text/plain": [
       "torch.Size([32, 64])"
      ]
     },
     "execution_count": 47,
     "metadata": {},
     "output_type": "execute_result"
    }
   ],
   "source": [
    "non_pad.shape\n"
   ]
  },
  {
   "cell_type": "code",
   "execution_count": 49,
   "metadata": {
    "colab": {
     "base_uri": "https://localhost:8080/"
    },
    "id": "jti8gBkSIW93",
    "outputId": "083699e2-359d-4b30-b0aa-5102dbdc6b85"
   },
   "outputs": [
    {
     "data": {
      "text/plain": [
       "tensor([1., 1., 1., 1., 1., 1., 1., 1., 1., 1., 1., 1., 1., 1., 1., 1., 1., 1.,\n",
       "        1., 1., 1., 1., 1., 1., 1., 1., 1., 1., 1., 1., 1., 1., 1., 1., 1., 1.,\n",
       "        1., 0., 0., 0., 0., 0., 0., 0., 0., 0., 0., 0., 0., 0., 0., 0., 0., 0.,\n",
       "        0., 0., 0., 0., 0., 0., 0., 0., 0., 0.])"
      ]
     },
     "execution_count": 49,
     "metadata": {},
     "output_type": "execute_result"
    }
   ],
   "source": [
    "non_pad[0,:]"
   ]
  },
  {
   "cell_type": "code",
   "execution_count": 50,
   "metadata": {
    "colab": {
     "base_uri": "https://localhost:8080/"
    },
    "id": "5spzin_yJcNA",
    "outputId": "1dd6d042-27fa-4bac-fd8c-ec3256ac6e67"
   },
   "outputs": [
    {
     "data": {
      "text/plain": [
       "torch.Size([32, 64])"
      ]
     },
     "execution_count": 50,
     "metadata": {},
     "output_type": "execute_result"
    }
   ],
   "source": [
    "log_p.shape\n"
   ]
  },
  {
   "cell_type": "code",
   "execution_count": 51,
   "metadata": {
    "colab": {
     "base_uri": "https://localhost:8080/"
    },
    "id": "7sZ-OfcoJcPL",
    "outputId": "10e3e693-45fd-47df-e23f-af3fb54c1b9e"
   },
   "outputs": [
    {
     "data": {
      "text/plain": [
       "tensor([-5.3965e+00, -1.0311e+00, -6.6917e-01, -3.0611e+00, -1.5259e+00,\n",
       "        -2.9263e-02, -4.7684e-05, -5.9128e-05, -1.8858e+00, -1.3325e-01,\n",
       "        -7.4234e-02, -6.0565e+00, -3.6373e-03, -3.4332e-05, -1.1921e-03,\n",
       "        -2.2745e-01, -9.1667e-03,  0.0000e+00, -7.5340e-04, -4.2465e+00,\n",
       "        -4.9812e-01, -1.8959e-03, -3.0287e+00, -1.9073e-06, -9.1553e-04,\n",
       "        -2.7161e+00, -4.0007e+00, -2.0192e+00, -2.2533e-01, -1.1322e+00,\n",
       "        -2.1546e+00, -2.7493e-02, -5.1561e+00, -6.8018e-01, -7.8403e-01,\n",
       "        -7.3942e+00, -1.2638e-02, -2.9633e+01, -1.6817e+01, -2.1895e+01,\n",
       "        -1.7741e+01, -1.7966e+01, -2.4173e+01, -2.0454e+01, -2.3524e+01,\n",
       "        -2.6218e+01, -2.5755e+01, -1.9525e+01, -2.3176e+01, -2.2120e+01,\n",
       "        -2.4267e+01, -2.2434e+01, -2.4107e+01, -2.3433e+01, -2.3169e+01,\n",
       "        -2.2986e+01, -2.1350e+01, -2.3652e+01, -2.5622e+01, -2.5208e+01,\n",
       "        -2.3868e+01, -2.2377e+01, -2.3188e+01, -2.1843e+01])"
      ]
     },
     "execution_count": 51,
     "metadata": {},
     "output_type": "execute_result"
    }
   ],
   "source": [
    "log_p[0,:]\n"
   ]
  },
  {
   "cell_type": "code",
   "execution_count": null,
   "metadata": {
    "id": "vN5CQCkaJcSw"
   },
   "outputs": [],
   "source": []
  },
  {
   "cell_type": "markdown",
   "metadata": {
    "id": "VzPhiE79Nu9s"
   },
   "source": [
    "By computing the product of the log probabilities and the non_pad tensor you remove the effect of padding on the metric:"
   ]
  },
  {
   "cell_type": "code",
   "execution_count": 63,
   "metadata": {
    "colab": {
     "base_uri": "https://localhost:8080/"
    },
    "id": "yQVtJ9gANu9s",
    "outputId": "01d6ade2-752e-431b-ab2d-a800f539979e"
   },
   "outputs": [
    {
     "name": "stdout",
     "output_type": "stream",
     "text": [
      "real log probabilities still have shape: torch.Size([32, 64])\n"
     ]
    }
   ],
   "source": [
    "real_log_p = log_p * non_pad\n",
    "print(f'real log probabilities still have shape: {real_log_p.shape}')\n"
   ]
  },
  {
   "cell_type": "code",
   "execution_count": null,
   "metadata": {
    "id": "MRec11roNI2g"
   },
   "outputs": [],
   "source": []
  },
  {
   "cell_type": "markdown",
   "metadata": {
    "id": "TmKeG_6BNu9t"
   },
   "source": [
    "You can check the effect of filtering out the padding by looking at the two log probabilities tensors:"
   ]
  },
  {
   "cell_type": "code",
   "execution_count": 64,
   "metadata": {
    "colab": {
     "base_uri": "https://localhost:8080/"
    },
    "id": "W2xSCe78Nu9t",
    "outputId": "9ae30cc8-4008-49e2-9845-0d22c7b69ea8"
   },
   "outputs": [
    {
     "name": "stdout",
     "output_type": "stream",
     "text": [
      "log probabilities before filtering padding: \n",
      "\n",
      " tensor([[ -5.3965,  -1.0311,  -0.6692,  ..., -22.3767, -23.1877, -21.8435],\n",
      "        [ -4.5858,  -1.1341,  -8.5380,  ..., -20.1569, -26.8371, -23.5750],\n",
      "        [ -5.2224,  -1.2824,  -0.1731,  ..., -21.3282, -19.8544, -33.8844],\n",
      "        ...,\n",
      "        [ -5.3965, -17.2917,  -4.3608,  ..., -20.8258, -21.0658, -22.4431],\n",
      "        [ -5.9313, -14.2474,  -0.2637,  ..., -26.7432, -18.3843, -22.3553],\n",
      "        [ -5.6705,  -0.1060,   0.0000,  ..., -23.3325, -28.0874, -23.8788]])\n",
      "\n",
      "log probabilities after filtering padding: \n",
      "\n",
      " tensor([[ -5.3965,  -1.0311,  -0.6692,  ...,  -0.0000,  -0.0000,  -0.0000],\n",
      "        [ -4.5858,  -1.1341,  -8.5380,  ...,  -0.0000,  -0.0000,  -0.0000],\n",
      "        [ -5.2224,  -1.2824,  -0.1731,  ...,  -0.0000,  -0.0000,  -0.0000],\n",
      "        ...,\n",
      "        [ -5.3965, -17.2917,  -4.3608,  ...,  -0.0000,  -0.0000,  -0.0000],\n",
      "        [ -5.9313, -14.2474,  -0.2637,  ...,  -0.0000,  -0.0000,  -0.0000],\n",
      "        [ -5.6705,  -0.1060,   0.0000,  ...,  -0.0000,  -0.0000,  -0.0000]])\n"
     ]
    }
   ],
   "source": [
    "print(f'log probabilities before filtering padding: \\n\\n {log_p}\\n')\n",
    "print(f'log probabilities after filtering padding: \\n\\n {real_log_p}')\n"
   ]
  },
  {
   "cell_type": "markdown",
   "metadata": {
    "id": "LEhjjB7uNu9u"
   },
   "source": [
    "Finally, to get the average log perplexity of the model across all sequences in the batch, you will sum the log probabilities in each sequence and divide by the number of non padding elements (which will give you the negative log perplexity per sequence). After that, you can get the mean of the log perplexity across all sequences in the batch."
   ]
  },
  {
   "cell_type": "code",
   "execution_count": 66,
   "metadata": {
    "colab": {
     "base_uri": "https://localhost:8080/"
    },
    "id": "zMKfxEZMNu9u",
    "outputId": "ecaf7b75-ca2e-4866-e497-6018a3a0b0c5"
   },
   "outputs": [
    {
     "name": "stdout",
     "output_type": "stream",
     "text": [
      "The log perplexity and perplexity of the model are respectively: 2.621185541152954 and 13.752017974853516\n"
     ]
    }
   ],
   "source": [
    "log_ppx = torch.sum(real_log_p, axis=1) / torch.sum(non_pad, axis=1)\n",
    "log_ppx = torch.mean(-log_ppx)\n",
    "print(f'The log perplexity and perplexity of the model are respectively: {log_ppx} and {torch.exp(log_ppx)}')\n"
   ]
  },
  {
   "cell_type": "markdown",
   "metadata": {
    "id": "DcAhGDtNNu9u"
   },
   "source": [
    "**Congratulations on finishing this lecture notebook!** Now you should have a clear understanding of how to work with pytorch tensors and how to compute the perplexity to evaluate your language models. **Keep it up!**"
   ]
  },
  {
   "cell_type": "code",
   "execution_count": null,
   "metadata": {
    "id": "z3b8M_NsNoj0"
   },
   "outputs": [],
   "source": []
  }
 ],
 "metadata": {
  "colab": {
   "provenance": []
  },
  "kernelspec": {
   "display_name": "Python 3 (ipykernel)",
   "language": "python",
   "name": "python3"
  },
  "language_info": {
   "codemirror_mode": {
    "name": "ipython",
    "version": 3
   },
   "file_extension": ".py",
   "mimetype": "text/x-python",
   "name": "python",
   "nbconvert_exporter": "python",
   "pygments_lexer": "ipython3",
   "version": "3.10.0"
  }
 },
 "nbformat": 4,
 "nbformat_minor": 4
}
