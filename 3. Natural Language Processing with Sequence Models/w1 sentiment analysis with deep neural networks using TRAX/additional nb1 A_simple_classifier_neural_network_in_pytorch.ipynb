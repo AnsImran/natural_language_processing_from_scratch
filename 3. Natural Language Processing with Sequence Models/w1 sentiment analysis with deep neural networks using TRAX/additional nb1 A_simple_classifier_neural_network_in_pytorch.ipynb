{
  "nbformat": 4,
  "nbformat_minor": 0,
  "metadata": {
    "colab": {
      "provenance": []
    },
    "kernelspec": {
      "name": "python3",
      "display_name": "Python 3"
    },
    "language_info": {
      "name": "python"
    }
  },
  "cells": [
    {
      "cell_type": "markdown",
      "source": [
        "google colab notebook"
      ],
      "metadata": {
        "id": "CWQXE2vpktA8"
      }
    },
    {
      "cell_type": "markdown",
      "source": [
        "# A simple classifier neural network in pytorch"
      ],
      "metadata": {
        "id": "kbrV5mK2zTLU"
      }
    },
    {
      "cell_type": "code",
      "source": [
        "import torch\n",
        "import torch.nn as nn\n",
        "from torch.nn import functional as F\n",
        "import torch.optim as optim\n",
        "\n",
        "import pandas as pd\n",
        "import numpy as np\n"
      ],
      "metadata": {
        "id": "Ah449SXypP80"
      },
      "execution_count": null,
      "outputs": []
    },
    {
      "cell_type": "code",
      "source": [
        "dataset = pd.read_csv('https://raw.githubusercontent.com/futurexskill/ml-model-deployment/main/storepurchasedata_large.csv')\n"
      ],
      "metadata": {
        "id": "QLnz8zViqFQa"
      },
      "execution_count": null,
      "outputs": []
    },
    {
      "cell_type": "code",
      "source": [
        "dataset.describe()"
      ],
      "metadata": {
        "colab": {
          "base_uri": "https://localhost:8080/",
          "height": 320
        },
        "id": "4FjUwty9qT16",
        "outputId": "f39ed2af-79a6-44cb-8921-a29fa7846240"
      },
      "execution_count": null,
      "outputs": [
        {
          "output_type": "execute_result",
          "data": {
            "text/plain": [
              "               Age        Salary    Purchased\n",
              "count  1554.000000   1554.000000  1554.000000\n",
              "mean     44.296010  57042.471042     0.694981\n",
              "std      17.462458  21209.244800     0.460564\n",
              "min      18.000000  20000.000000     0.000000\n",
              "25%      27.000000  46000.000000     0.000000\n",
              "50%      43.000000  60000.000000     1.000000\n",
              "75%      62.000000  66000.000000     1.000000\n",
              "max      69.000000  96000.000000     1.000000"
            ],
            "text/html": [
              "\n",
              "  <div id=\"df-a846a7c4-fdfd-42f7-ae94-2ecb37531431\" class=\"colab-df-container\">\n",
              "    <div>\n",
              "<style scoped>\n",
              "    .dataframe tbody tr th:only-of-type {\n",
              "        vertical-align: middle;\n",
              "    }\n",
              "\n",
              "    .dataframe tbody tr th {\n",
              "        vertical-align: top;\n",
              "    }\n",
              "\n",
              "    .dataframe thead th {\n",
              "        text-align: right;\n",
              "    }\n",
              "</style>\n",
              "<table border=\"1\" class=\"dataframe\">\n",
              "  <thead>\n",
              "    <tr style=\"text-align: right;\">\n",
              "      <th></th>\n",
              "      <th>Age</th>\n",
              "      <th>Salary</th>\n",
              "      <th>Purchased</th>\n",
              "    </tr>\n",
              "  </thead>\n",
              "  <tbody>\n",
              "    <tr>\n",
              "      <th>count</th>\n",
              "      <td>1554.000000</td>\n",
              "      <td>1554.000000</td>\n",
              "      <td>1554.000000</td>\n",
              "    </tr>\n",
              "    <tr>\n",
              "      <th>mean</th>\n",
              "      <td>44.296010</td>\n",
              "      <td>57042.471042</td>\n",
              "      <td>0.694981</td>\n",
              "    </tr>\n",
              "    <tr>\n",
              "      <th>std</th>\n",
              "      <td>17.462458</td>\n",
              "      <td>21209.244800</td>\n",
              "      <td>0.460564</td>\n",
              "    </tr>\n",
              "    <tr>\n",
              "      <th>min</th>\n",
              "      <td>18.000000</td>\n",
              "      <td>20000.000000</td>\n",
              "      <td>0.000000</td>\n",
              "    </tr>\n",
              "    <tr>\n",
              "      <th>25%</th>\n",
              "      <td>27.000000</td>\n",
              "      <td>46000.000000</td>\n",
              "      <td>0.000000</td>\n",
              "    </tr>\n",
              "    <tr>\n",
              "      <th>50%</th>\n",
              "      <td>43.000000</td>\n",
              "      <td>60000.000000</td>\n",
              "      <td>1.000000</td>\n",
              "    </tr>\n",
              "    <tr>\n",
              "      <th>75%</th>\n",
              "      <td>62.000000</td>\n",
              "      <td>66000.000000</td>\n",
              "      <td>1.000000</td>\n",
              "    </tr>\n",
              "    <tr>\n",
              "      <th>max</th>\n",
              "      <td>69.000000</td>\n",
              "      <td>96000.000000</td>\n",
              "      <td>1.000000</td>\n",
              "    </tr>\n",
              "  </tbody>\n",
              "</table>\n",
              "</div>\n",
              "    <div class=\"colab-df-buttons\">\n",
              "\n",
              "  <div class=\"colab-df-container\">\n",
              "    <button class=\"colab-df-convert\" onclick=\"convertToInteractive('df-a846a7c4-fdfd-42f7-ae94-2ecb37531431')\"\n",
              "            title=\"Convert this dataframe to an interactive table.\"\n",
              "            style=\"display:none;\">\n",
              "\n",
              "  <svg xmlns=\"http://www.w3.org/2000/svg\" height=\"24px\" viewBox=\"0 -960 960 960\">\n",
              "    <path d=\"M120-120v-720h720v720H120Zm60-500h600v-160H180v160Zm220 220h160v-160H400v160Zm0 220h160v-160H400v160ZM180-400h160v-160H180v160Zm440 0h160v-160H620v160ZM180-180h160v-160H180v160Zm440 0h160v-160H620v160Z\"/>\n",
              "  </svg>\n",
              "    </button>\n",
              "\n",
              "  <style>\n",
              "    .colab-df-container {\n",
              "      display:flex;\n",
              "      gap: 12px;\n",
              "    }\n",
              "\n",
              "    .colab-df-convert {\n",
              "      background-color: #E8F0FE;\n",
              "      border: none;\n",
              "      border-radius: 50%;\n",
              "      cursor: pointer;\n",
              "      display: none;\n",
              "      fill: #1967D2;\n",
              "      height: 32px;\n",
              "      padding: 0 0 0 0;\n",
              "      width: 32px;\n",
              "    }\n",
              "\n",
              "    .colab-df-convert:hover {\n",
              "      background-color: #E2EBFA;\n",
              "      box-shadow: 0px 1px 2px rgba(60, 64, 67, 0.3), 0px 1px 3px 1px rgba(60, 64, 67, 0.15);\n",
              "      fill: #174EA6;\n",
              "    }\n",
              "\n",
              "    .colab-df-buttons div {\n",
              "      margin-bottom: 4px;\n",
              "    }\n",
              "\n",
              "    [theme=dark] .colab-df-convert {\n",
              "      background-color: #3B4455;\n",
              "      fill: #D2E3FC;\n",
              "    }\n",
              "\n",
              "    [theme=dark] .colab-df-convert:hover {\n",
              "      background-color: #434B5C;\n",
              "      box-shadow: 0px 1px 3px 1px rgba(0, 0, 0, 0.15);\n",
              "      filter: drop-shadow(0px 1px 2px rgba(0, 0, 0, 0.3));\n",
              "      fill: #FFFFFF;\n",
              "    }\n",
              "  </style>\n",
              "\n",
              "    <script>\n",
              "      const buttonEl =\n",
              "        document.querySelector('#df-a846a7c4-fdfd-42f7-ae94-2ecb37531431 button.colab-df-convert');\n",
              "      buttonEl.style.display =\n",
              "        google.colab.kernel.accessAllowed ? 'block' : 'none';\n",
              "\n",
              "      async function convertToInteractive(key) {\n",
              "        const element = document.querySelector('#df-a846a7c4-fdfd-42f7-ae94-2ecb37531431');\n",
              "        const dataTable =\n",
              "          await google.colab.kernel.invokeFunction('convertToInteractive',\n",
              "                                                    [key], {});\n",
              "        if (!dataTable) return;\n",
              "\n",
              "        const docLinkHtml = 'Like what you see? Visit the ' +\n",
              "          '<a target=\"_blank\" href=https://colab.research.google.com/notebooks/data_table.ipynb>data table notebook</a>'\n",
              "          + ' to learn more about interactive tables.';\n",
              "        element.innerHTML = '';\n",
              "        dataTable['output_type'] = 'display_data';\n",
              "        await google.colab.output.renderOutput(dataTable, element);\n",
              "        const docLink = document.createElement('div');\n",
              "        docLink.innerHTML = docLinkHtml;\n",
              "        element.appendChild(docLink);\n",
              "      }\n",
              "    </script>\n",
              "  </div>\n",
              "\n",
              "\n",
              "<div id=\"df-bc0eeb77-09b2-4c73-ac03-331f3fd3abc5\">\n",
              "  <button class=\"colab-df-quickchart\" onclick=\"quickchart('df-bc0eeb77-09b2-4c73-ac03-331f3fd3abc5')\"\n",
              "            title=\"Suggest charts\"\n",
              "            style=\"display:none;\">\n",
              "\n",
              "<svg xmlns=\"http://www.w3.org/2000/svg\" height=\"24px\"viewBox=\"0 0 24 24\"\n",
              "     width=\"24px\">\n",
              "    <g>\n",
              "        <path d=\"M19 3H5c-1.1 0-2 .9-2 2v14c0 1.1.9 2 2 2h14c1.1 0 2-.9 2-2V5c0-1.1-.9-2-2-2zM9 17H7v-7h2v7zm4 0h-2V7h2v10zm4 0h-2v-4h2v4z\"/>\n",
              "    </g>\n",
              "</svg>\n",
              "  </button>\n",
              "\n",
              "<style>\n",
              "  .colab-df-quickchart {\n",
              "      --bg-color: #E8F0FE;\n",
              "      --fill-color: #1967D2;\n",
              "      --hover-bg-color: #E2EBFA;\n",
              "      --hover-fill-color: #174EA6;\n",
              "      --disabled-fill-color: #AAA;\n",
              "      --disabled-bg-color: #DDD;\n",
              "  }\n",
              "\n",
              "  [theme=dark] .colab-df-quickchart {\n",
              "      --bg-color: #3B4455;\n",
              "      --fill-color: #D2E3FC;\n",
              "      --hover-bg-color: #434B5C;\n",
              "      --hover-fill-color: #FFFFFF;\n",
              "      --disabled-bg-color: #3B4455;\n",
              "      --disabled-fill-color: #666;\n",
              "  }\n",
              "\n",
              "  .colab-df-quickchart {\n",
              "    background-color: var(--bg-color);\n",
              "    border: none;\n",
              "    border-radius: 50%;\n",
              "    cursor: pointer;\n",
              "    display: none;\n",
              "    fill: var(--fill-color);\n",
              "    height: 32px;\n",
              "    padding: 0;\n",
              "    width: 32px;\n",
              "  }\n",
              "\n",
              "  .colab-df-quickchart:hover {\n",
              "    background-color: var(--hover-bg-color);\n",
              "    box-shadow: 0 1px 2px rgba(60, 64, 67, 0.3), 0 1px 3px 1px rgba(60, 64, 67, 0.15);\n",
              "    fill: var(--button-hover-fill-color);\n",
              "  }\n",
              "\n",
              "  .colab-df-quickchart-complete:disabled,\n",
              "  .colab-df-quickchart-complete:disabled:hover {\n",
              "    background-color: var(--disabled-bg-color);\n",
              "    fill: var(--disabled-fill-color);\n",
              "    box-shadow: none;\n",
              "  }\n",
              "\n",
              "  .colab-df-spinner {\n",
              "    border: 2px solid var(--fill-color);\n",
              "    border-color: transparent;\n",
              "    border-bottom-color: var(--fill-color);\n",
              "    animation:\n",
              "      spin 1s steps(1) infinite;\n",
              "  }\n",
              "\n",
              "  @keyframes spin {\n",
              "    0% {\n",
              "      border-color: transparent;\n",
              "      border-bottom-color: var(--fill-color);\n",
              "      border-left-color: var(--fill-color);\n",
              "    }\n",
              "    20% {\n",
              "      border-color: transparent;\n",
              "      border-left-color: var(--fill-color);\n",
              "      border-top-color: var(--fill-color);\n",
              "    }\n",
              "    30% {\n",
              "      border-color: transparent;\n",
              "      border-left-color: var(--fill-color);\n",
              "      border-top-color: var(--fill-color);\n",
              "      border-right-color: var(--fill-color);\n",
              "    }\n",
              "    40% {\n",
              "      border-color: transparent;\n",
              "      border-right-color: var(--fill-color);\n",
              "      border-top-color: var(--fill-color);\n",
              "    }\n",
              "    60% {\n",
              "      border-color: transparent;\n",
              "      border-right-color: var(--fill-color);\n",
              "    }\n",
              "    80% {\n",
              "      border-color: transparent;\n",
              "      border-right-color: var(--fill-color);\n",
              "      border-bottom-color: var(--fill-color);\n",
              "    }\n",
              "    90% {\n",
              "      border-color: transparent;\n",
              "      border-bottom-color: var(--fill-color);\n",
              "    }\n",
              "  }\n",
              "</style>\n",
              "\n",
              "  <script>\n",
              "    async function quickchart(key) {\n",
              "      const quickchartButtonEl =\n",
              "        document.querySelector('#' + key + ' button');\n",
              "      quickchartButtonEl.disabled = true;  // To prevent multiple clicks.\n",
              "      quickchartButtonEl.classList.add('colab-df-spinner');\n",
              "      try {\n",
              "        const charts = await google.colab.kernel.invokeFunction(\n",
              "            'suggestCharts', [key], {});\n",
              "      } catch (error) {\n",
              "        console.error('Error during call to suggestCharts:', error);\n",
              "      }\n",
              "      quickchartButtonEl.classList.remove('colab-df-spinner');\n",
              "      quickchartButtonEl.classList.add('colab-df-quickchart-complete');\n",
              "    }\n",
              "    (() => {\n",
              "      let quickchartButtonEl =\n",
              "        document.querySelector('#df-bc0eeb77-09b2-4c73-ac03-331f3fd3abc5 button');\n",
              "      quickchartButtonEl.style.display =\n",
              "        google.colab.kernel.accessAllowed ? 'block' : 'none';\n",
              "    })();\n",
              "  </script>\n",
              "</div>\n",
              "\n",
              "    </div>\n",
              "  </div>\n"
            ],
            "application/vnd.google.colaboratory.intrinsic+json": {
              "type": "dataframe",
              "summary": "{\n  \"name\": \"dataset\",\n  \"rows\": 8,\n  \"fields\": [\n    {\n      \"column\": \"Age\",\n      \"properties\": {\n        \"dtype\": \"number\",\n        \"std\": 535.5768244756639,\n        \"min\": 17.462457850159574,\n        \"max\": 1554.0,\n        \"num_unique_values\": 8,\n        \"samples\": [\n          44.296010296010294,\n          43.0,\n          1554.0\n        ],\n        \"semantic_type\": \"\",\n        \"description\": \"\"\n      }\n    },\n    {\n      \"column\": \"Salary\",\n      \"properties\": {\n        \"dtype\": \"number\",\n        \"std\": 30434.848230811844,\n        \"min\": 1554.0,\n        \"max\": 96000.0,\n        \"num_unique_values\": 8,\n        \"samples\": [\n          57042.47104247104,\n          60000.0,\n          1554.0\n        ],\n        \"semantic_type\": \"\",\n        \"description\": \"\"\n      }\n    },\n    {\n      \"column\": \"Purchased\",\n      \"properties\": {\n        \"dtype\": \"number\",\n        \"std\": 549.2122420218217,\n        \"min\": 0.0,\n        \"max\": 1554.0,\n        \"num_unique_values\": 5,\n        \"samples\": [\n          0.694980694980695,\n          1.0,\n          0.4605638145962201\n        ],\n        \"semantic_type\": \"\",\n        \"description\": \"\"\n      }\n    }\n  ]\n}"
            }
          },
          "metadata": {},
          "execution_count": 58
        }
      ]
    },
    {
      "cell_type": "code",
      "source": [
        "dataset.head()\n"
      ],
      "metadata": {
        "colab": {
          "base_uri": "https://localhost:8080/",
          "height": 226
        },
        "id": "NDrR1tpDqYQG",
        "outputId": "1970493c-b6a5-454e-964e-9270c96a75fa"
      },
      "execution_count": null,
      "outputs": [
        {
          "output_type": "execute_result",
          "data": {
            "text/plain": [
              "   Age  Salary  Purchased\n",
              "0   18   20000          0\n",
              "1   19   22000          0\n",
              "2   20   24000          0\n",
              "3   21   28000          0\n",
              "4   22   60000          1"
            ],
            "text/html": [
              "\n",
              "  <div id=\"df-f009b672-439e-4838-b637-5ff1080fe66e\" class=\"colab-df-container\">\n",
              "    <div>\n",
              "<style scoped>\n",
              "    .dataframe tbody tr th:only-of-type {\n",
              "        vertical-align: middle;\n",
              "    }\n",
              "\n",
              "    .dataframe tbody tr th {\n",
              "        vertical-align: top;\n",
              "    }\n",
              "\n",
              "    .dataframe thead th {\n",
              "        text-align: right;\n",
              "    }\n",
              "</style>\n",
              "<table border=\"1\" class=\"dataframe\">\n",
              "  <thead>\n",
              "    <tr style=\"text-align: right;\">\n",
              "      <th></th>\n",
              "      <th>Age</th>\n",
              "      <th>Salary</th>\n",
              "      <th>Purchased</th>\n",
              "    </tr>\n",
              "  </thead>\n",
              "  <tbody>\n",
              "    <tr>\n",
              "      <th>0</th>\n",
              "      <td>18</td>\n",
              "      <td>20000</td>\n",
              "      <td>0</td>\n",
              "    </tr>\n",
              "    <tr>\n",
              "      <th>1</th>\n",
              "      <td>19</td>\n",
              "      <td>22000</td>\n",
              "      <td>0</td>\n",
              "    </tr>\n",
              "    <tr>\n",
              "      <th>2</th>\n",
              "      <td>20</td>\n",
              "      <td>24000</td>\n",
              "      <td>0</td>\n",
              "    </tr>\n",
              "    <tr>\n",
              "      <th>3</th>\n",
              "      <td>21</td>\n",
              "      <td>28000</td>\n",
              "      <td>0</td>\n",
              "    </tr>\n",
              "    <tr>\n",
              "      <th>4</th>\n",
              "      <td>22</td>\n",
              "      <td>60000</td>\n",
              "      <td>1</td>\n",
              "    </tr>\n",
              "  </tbody>\n",
              "</table>\n",
              "</div>\n",
              "    <div class=\"colab-df-buttons\">\n",
              "\n",
              "  <div class=\"colab-df-container\">\n",
              "    <button class=\"colab-df-convert\" onclick=\"convertToInteractive('df-f009b672-439e-4838-b637-5ff1080fe66e')\"\n",
              "            title=\"Convert this dataframe to an interactive table.\"\n",
              "            style=\"display:none;\">\n",
              "\n",
              "  <svg xmlns=\"http://www.w3.org/2000/svg\" height=\"24px\" viewBox=\"0 -960 960 960\">\n",
              "    <path d=\"M120-120v-720h720v720H120Zm60-500h600v-160H180v160Zm220 220h160v-160H400v160Zm0 220h160v-160H400v160ZM180-400h160v-160H180v160Zm440 0h160v-160H620v160ZM180-180h160v-160H180v160Zm440 0h160v-160H620v160Z\"/>\n",
              "  </svg>\n",
              "    </button>\n",
              "\n",
              "  <style>\n",
              "    .colab-df-container {\n",
              "      display:flex;\n",
              "      gap: 12px;\n",
              "    }\n",
              "\n",
              "    .colab-df-convert {\n",
              "      background-color: #E8F0FE;\n",
              "      border: none;\n",
              "      border-radius: 50%;\n",
              "      cursor: pointer;\n",
              "      display: none;\n",
              "      fill: #1967D2;\n",
              "      height: 32px;\n",
              "      padding: 0 0 0 0;\n",
              "      width: 32px;\n",
              "    }\n",
              "\n",
              "    .colab-df-convert:hover {\n",
              "      background-color: #E2EBFA;\n",
              "      box-shadow: 0px 1px 2px rgba(60, 64, 67, 0.3), 0px 1px 3px 1px rgba(60, 64, 67, 0.15);\n",
              "      fill: #174EA6;\n",
              "    }\n",
              "\n",
              "    .colab-df-buttons div {\n",
              "      margin-bottom: 4px;\n",
              "    }\n",
              "\n",
              "    [theme=dark] .colab-df-convert {\n",
              "      background-color: #3B4455;\n",
              "      fill: #D2E3FC;\n",
              "    }\n",
              "\n",
              "    [theme=dark] .colab-df-convert:hover {\n",
              "      background-color: #434B5C;\n",
              "      box-shadow: 0px 1px 3px 1px rgba(0, 0, 0, 0.15);\n",
              "      filter: drop-shadow(0px 1px 2px rgba(0, 0, 0, 0.3));\n",
              "      fill: #FFFFFF;\n",
              "    }\n",
              "  </style>\n",
              "\n",
              "    <script>\n",
              "      const buttonEl =\n",
              "        document.querySelector('#df-f009b672-439e-4838-b637-5ff1080fe66e button.colab-df-convert');\n",
              "      buttonEl.style.display =\n",
              "        google.colab.kernel.accessAllowed ? 'block' : 'none';\n",
              "\n",
              "      async function convertToInteractive(key) {\n",
              "        const element = document.querySelector('#df-f009b672-439e-4838-b637-5ff1080fe66e');\n",
              "        const dataTable =\n",
              "          await google.colab.kernel.invokeFunction('convertToInteractive',\n",
              "                                                    [key], {});\n",
              "        if (!dataTable) return;\n",
              "\n",
              "        const docLinkHtml = 'Like what you see? Visit the ' +\n",
              "          '<a target=\"_blank\" href=https://colab.research.google.com/notebooks/data_table.ipynb>data table notebook</a>'\n",
              "          + ' to learn more about interactive tables.';\n",
              "        element.innerHTML = '';\n",
              "        dataTable['output_type'] = 'display_data';\n",
              "        await google.colab.output.renderOutput(dataTable, element);\n",
              "        const docLink = document.createElement('div');\n",
              "        docLink.innerHTML = docLinkHtml;\n",
              "        element.appendChild(docLink);\n",
              "      }\n",
              "    </script>\n",
              "  </div>\n",
              "\n",
              "\n",
              "<div id=\"df-163c989f-4705-4573-9d10-430f553b7625\">\n",
              "  <button class=\"colab-df-quickchart\" onclick=\"quickchart('df-163c989f-4705-4573-9d10-430f553b7625')\"\n",
              "            title=\"Suggest charts\"\n",
              "            style=\"display:none;\">\n",
              "\n",
              "<svg xmlns=\"http://www.w3.org/2000/svg\" height=\"24px\"viewBox=\"0 0 24 24\"\n",
              "     width=\"24px\">\n",
              "    <g>\n",
              "        <path d=\"M19 3H5c-1.1 0-2 .9-2 2v14c0 1.1.9 2 2 2h14c1.1 0 2-.9 2-2V5c0-1.1-.9-2-2-2zM9 17H7v-7h2v7zm4 0h-2V7h2v10zm4 0h-2v-4h2v4z\"/>\n",
              "    </g>\n",
              "</svg>\n",
              "  </button>\n",
              "\n",
              "<style>\n",
              "  .colab-df-quickchart {\n",
              "      --bg-color: #E8F0FE;\n",
              "      --fill-color: #1967D2;\n",
              "      --hover-bg-color: #E2EBFA;\n",
              "      --hover-fill-color: #174EA6;\n",
              "      --disabled-fill-color: #AAA;\n",
              "      --disabled-bg-color: #DDD;\n",
              "  }\n",
              "\n",
              "  [theme=dark] .colab-df-quickchart {\n",
              "      --bg-color: #3B4455;\n",
              "      --fill-color: #D2E3FC;\n",
              "      --hover-bg-color: #434B5C;\n",
              "      --hover-fill-color: #FFFFFF;\n",
              "      --disabled-bg-color: #3B4455;\n",
              "      --disabled-fill-color: #666;\n",
              "  }\n",
              "\n",
              "  .colab-df-quickchart {\n",
              "    background-color: var(--bg-color);\n",
              "    border: none;\n",
              "    border-radius: 50%;\n",
              "    cursor: pointer;\n",
              "    display: none;\n",
              "    fill: var(--fill-color);\n",
              "    height: 32px;\n",
              "    padding: 0;\n",
              "    width: 32px;\n",
              "  }\n",
              "\n",
              "  .colab-df-quickchart:hover {\n",
              "    background-color: var(--hover-bg-color);\n",
              "    box-shadow: 0 1px 2px rgba(60, 64, 67, 0.3), 0 1px 3px 1px rgba(60, 64, 67, 0.15);\n",
              "    fill: var(--button-hover-fill-color);\n",
              "  }\n",
              "\n",
              "  .colab-df-quickchart-complete:disabled,\n",
              "  .colab-df-quickchart-complete:disabled:hover {\n",
              "    background-color: var(--disabled-bg-color);\n",
              "    fill: var(--disabled-fill-color);\n",
              "    box-shadow: none;\n",
              "  }\n",
              "\n",
              "  .colab-df-spinner {\n",
              "    border: 2px solid var(--fill-color);\n",
              "    border-color: transparent;\n",
              "    border-bottom-color: var(--fill-color);\n",
              "    animation:\n",
              "      spin 1s steps(1) infinite;\n",
              "  }\n",
              "\n",
              "  @keyframes spin {\n",
              "    0% {\n",
              "      border-color: transparent;\n",
              "      border-bottom-color: var(--fill-color);\n",
              "      border-left-color: var(--fill-color);\n",
              "    }\n",
              "    20% {\n",
              "      border-color: transparent;\n",
              "      border-left-color: var(--fill-color);\n",
              "      border-top-color: var(--fill-color);\n",
              "    }\n",
              "    30% {\n",
              "      border-color: transparent;\n",
              "      border-left-color: var(--fill-color);\n",
              "      border-top-color: var(--fill-color);\n",
              "      border-right-color: var(--fill-color);\n",
              "    }\n",
              "    40% {\n",
              "      border-color: transparent;\n",
              "      border-right-color: var(--fill-color);\n",
              "      border-top-color: var(--fill-color);\n",
              "    }\n",
              "    60% {\n",
              "      border-color: transparent;\n",
              "      border-right-color: var(--fill-color);\n",
              "    }\n",
              "    80% {\n",
              "      border-color: transparent;\n",
              "      border-right-color: var(--fill-color);\n",
              "      border-bottom-color: var(--fill-color);\n",
              "    }\n",
              "    90% {\n",
              "      border-color: transparent;\n",
              "      border-bottom-color: var(--fill-color);\n",
              "    }\n",
              "  }\n",
              "</style>\n",
              "\n",
              "  <script>\n",
              "    async function quickchart(key) {\n",
              "      const quickchartButtonEl =\n",
              "        document.querySelector('#' + key + ' button');\n",
              "      quickchartButtonEl.disabled = true;  // To prevent multiple clicks.\n",
              "      quickchartButtonEl.classList.add('colab-df-spinner');\n",
              "      try {\n",
              "        const charts = await google.colab.kernel.invokeFunction(\n",
              "            'suggestCharts', [key], {});\n",
              "      } catch (error) {\n",
              "        console.error('Error during call to suggestCharts:', error);\n",
              "      }\n",
              "      quickchartButtonEl.classList.remove('colab-df-spinner');\n",
              "      quickchartButtonEl.classList.add('colab-df-quickchart-complete');\n",
              "    }\n",
              "    (() => {\n",
              "      let quickchartButtonEl =\n",
              "        document.querySelector('#df-163c989f-4705-4573-9d10-430f553b7625 button');\n",
              "      quickchartButtonEl.style.display =\n",
              "        google.colab.kernel.accessAllowed ? 'block' : 'none';\n",
              "    })();\n",
              "  </script>\n",
              "</div>\n",
              "\n",
              "    </div>\n",
              "  </div>\n"
            ],
            "application/vnd.google.colaboratory.intrinsic+json": {
              "type": "dataframe",
              "variable_name": "dataset",
              "summary": "{\n  \"name\": \"dataset\",\n  \"rows\": 1554,\n  \"fields\": [\n    {\n      \"column\": \"Age\",\n      \"properties\": {\n        \"dtype\": \"number\",\n        \"std\": 17,\n        \"min\": 18,\n        \"max\": 69,\n        \"num_unique_values\": 44,\n        \"samples\": [\n          55,\n          44,\n          46\n        ],\n        \"semantic_type\": \"\",\n        \"description\": \"\"\n      }\n    },\n    {\n      \"column\": \"Salary\",\n      \"properties\": {\n        \"dtype\": \"number\",\n        \"std\": 21209,\n        \"min\": 20000,\n        \"max\": 96000,\n        \"num_unique_values\": 30,\n        \"samples\": [\n          52000,\n          63000,\n          95000\n        ],\n        \"semantic_type\": \"\",\n        \"description\": \"\"\n      }\n    },\n    {\n      \"column\": \"Purchased\",\n      \"properties\": {\n        \"dtype\": \"number\",\n        \"std\": 0,\n        \"min\": 0,\n        \"max\": 1,\n        \"num_unique_values\": 2,\n        \"samples\": [\n          1,\n          0\n        ],\n        \"semantic_type\": \"\",\n        \"description\": \"\"\n      }\n    }\n  ]\n}"
            }
          },
          "metadata": {},
          "execution_count": 59
        }
      ]
    },
    {
      "cell_type": "code",
      "source": [
        "dataset.iloc[:, :-1]\n"
      ],
      "metadata": {
        "colab": {
          "base_uri": "https://localhost:8080/",
          "height": 444
        },
        "id": "-hz0FAF_qvSv",
        "outputId": "92e0d131-4bdb-4025-abfc-fbfa0e10ac98"
      },
      "execution_count": null,
      "outputs": [
        {
          "output_type": "execute_result",
          "data": {
            "text/plain": [
              "      Age  Salary\n",
              "0      18   20000\n",
              "1      19   22000\n",
              "2      20   24000\n",
              "3      21   28000\n",
              "4      22   60000\n",
              "...   ...     ...\n",
              "1549   66   26000\n",
              "1550   67   66000\n",
              "1551   68   80000\n",
              "1552   69   90000\n",
              "1553   60   96000\n",
              "\n",
              "[1554 rows x 2 columns]"
            ],
            "text/html": [
              "\n",
              "  <div id=\"df-acd68c31-a836-46ab-be9c-1173f6147e6e\" class=\"colab-df-container\">\n",
              "    <div>\n",
              "<style scoped>\n",
              "    .dataframe tbody tr th:only-of-type {\n",
              "        vertical-align: middle;\n",
              "    }\n",
              "\n",
              "    .dataframe tbody tr th {\n",
              "        vertical-align: top;\n",
              "    }\n",
              "\n",
              "    .dataframe thead th {\n",
              "        text-align: right;\n",
              "    }\n",
              "</style>\n",
              "<table border=\"1\" class=\"dataframe\">\n",
              "  <thead>\n",
              "    <tr style=\"text-align: right;\">\n",
              "      <th></th>\n",
              "      <th>Age</th>\n",
              "      <th>Salary</th>\n",
              "    </tr>\n",
              "  </thead>\n",
              "  <tbody>\n",
              "    <tr>\n",
              "      <th>0</th>\n",
              "      <td>18</td>\n",
              "      <td>20000</td>\n",
              "    </tr>\n",
              "    <tr>\n",
              "      <th>1</th>\n",
              "      <td>19</td>\n",
              "      <td>22000</td>\n",
              "    </tr>\n",
              "    <tr>\n",
              "      <th>2</th>\n",
              "      <td>20</td>\n",
              "      <td>24000</td>\n",
              "    </tr>\n",
              "    <tr>\n",
              "      <th>3</th>\n",
              "      <td>21</td>\n",
              "      <td>28000</td>\n",
              "    </tr>\n",
              "    <tr>\n",
              "      <th>4</th>\n",
              "      <td>22</td>\n",
              "      <td>60000</td>\n",
              "    </tr>\n",
              "    <tr>\n",
              "      <th>...</th>\n",
              "      <td>...</td>\n",
              "      <td>...</td>\n",
              "    </tr>\n",
              "    <tr>\n",
              "      <th>1549</th>\n",
              "      <td>66</td>\n",
              "      <td>26000</td>\n",
              "    </tr>\n",
              "    <tr>\n",
              "      <th>1550</th>\n",
              "      <td>67</td>\n",
              "      <td>66000</td>\n",
              "    </tr>\n",
              "    <tr>\n",
              "      <th>1551</th>\n",
              "      <td>68</td>\n",
              "      <td>80000</td>\n",
              "    </tr>\n",
              "    <tr>\n",
              "      <th>1552</th>\n",
              "      <td>69</td>\n",
              "      <td>90000</td>\n",
              "    </tr>\n",
              "    <tr>\n",
              "      <th>1553</th>\n",
              "      <td>60</td>\n",
              "      <td>96000</td>\n",
              "    </tr>\n",
              "  </tbody>\n",
              "</table>\n",
              "<p>1554 rows × 2 columns</p>\n",
              "</div>\n",
              "    <div class=\"colab-df-buttons\">\n",
              "\n",
              "  <div class=\"colab-df-container\">\n",
              "    <button class=\"colab-df-convert\" onclick=\"convertToInteractive('df-acd68c31-a836-46ab-be9c-1173f6147e6e')\"\n",
              "            title=\"Convert this dataframe to an interactive table.\"\n",
              "            style=\"display:none;\">\n",
              "\n",
              "  <svg xmlns=\"http://www.w3.org/2000/svg\" height=\"24px\" viewBox=\"0 -960 960 960\">\n",
              "    <path d=\"M120-120v-720h720v720H120Zm60-500h600v-160H180v160Zm220 220h160v-160H400v160Zm0 220h160v-160H400v160ZM180-400h160v-160H180v160Zm440 0h160v-160H620v160ZM180-180h160v-160H180v160Zm440 0h160v-160H620v160Z\"/>\n",
              "  </svg>\n",
              "    </button>\n",
              "\n",
              "  <style>\n",
              "    .colab-df-container {\n",
              "      display:flex;\n",
              "      gap: 12px;\n",
              "    }\n",
              "\n",
              "    .colab-df-convert {\n",
              "      background-color: #E8F0FE;\n",
              "      border: none;\n",
              "      border-radius: 50%;\n",
              "      cursor: pointer;\n",
              "      display: none;\n",
              "      fill: #1967D2;\n",
              "      height: 32px;\n",
              "      padding: 0 0 0 0;\n",
              "      width: 32px;\n",
              "    }\n",
              "\n",
              "    .colab-df-convert:hover {\n",
              "      background-color: #E2EBFA;\n",
              "      box-shadow: 0px 1px 2px rgba(60, 64, 67, 0.3), 0px 1px 3px 1px rgba(60, 64, 67, 0.15);\n",
              "      fill: #174EA6;\n",
              "    }\n",
              "\n",
              "    .colab-df-buttons div {\n",
              "      margin-bottom: 4px;\n",
              "    }\n",
              "\n",
              "    [theme=dark] .colab-df-convert {\n",
              "      background-color: #3B4455;\n",
              "      fill: #D2E3FC;\n",
              "    }\n",
              "\n",
              "    [theme=dark] .colab-df-convert:hover {\n",
              "      background-color: #434B5C;\n",
              "      box-shadow: 0px 1px 3px 1px rgba(0, 0, 0, 0.15);\n",
              "      filter: drop-shadow(0px 1px 2px rgba(0, 0, 0, 0.3));\n",
              "      fill: #FFFFFF;\n",
              "    }\n",
              "  </style>\n",
              "\n",
              "    <script>\n",
              "      const buttonEl =\n",
              "        document.querySelector('#df-acd68c31-a836-46ab-be9c-1173f6147e6e button.colab-df-convert');\n",
              "      buttonEl.style.display =\n",
              "        google.colab.kernel.accessAllowed ? 'block' : 'none';\n",
              "\n",
              "      async function convertToInteractive(key) {\n",
              "        const element = document.querySelector('#df-acd68c31-a836-46ab-be9c-1173f6147e6e');\n",
              "        const dataTable =\n",
              "          await google.colab.kernel.invokeFunction('convertToInteractive',\n",
              "                                                    [key], {});\n",
              "        if (!dataTable) return;\n",
              "\n",
              "        const docLinkHtml = 'Like what you see? Visit the ' +\n",
              "          '<a target=\"_blank\" href=https://colab.research.google.com/notebooks/data_table.ipynb>data table notebook</a>'\n",
              "          + ' to learn more about interactive tables.';\n",
              "        element.innerHTML = '';\n",
              "        dataTable['output_type'] = 'display_data';\n",
              "        await google.colab.output.renderOutput(dataTable, element);\n",
              "        const docLink = document.createElement('div');\n",
              "        docLink.innerHTML = docLinkHtml;\n",
              "        element.appendChild(docLink);\n",
              "      }\n",
              "    </script>\n",
              "  </div>\n",
              "\n",
              "\n",
              "<div id=\"df-d5dd79f0-f7a2-4b8d-b541-a7af384c0946\">\n",
              "  <button class=\"colab-df-quickchart\" onclick=\"quickchart('df-d5dd79f0-f7a2-4b8d-b541-a7af384c0946')\"\n",
              "            title=\"Suggest charts\"\n",
              "            style=\"display:none;\">\n",
              "\n",
              "<svg xmlns=\"http://www.w3.org/2000/svg\" height=\"24px\"viewBox=\"0 0 24 24\"\n",
              "     width=\"24px\">\n",
              "    <g>\n",
              "        <path d=\"M19 3H5c-1.1 0-2 .9-2 2v14c0 1.1.9 2 2 2h14c1.1 0 2-.9 2-2V5c0-1.1-.9-2-2-2zM9 17H7v-7h2v7zm4 0h-2V7h2v10zm4 0h-2v-4h2v4z\"/>\n",
              "    </g>\n",
              "</svg>\n",
              "  </button>\n",
              "\n",
              "<style>\n",
              "  .colab-df-quickchart {\n",
              "      --bg-color: #E8F0FE;\n",
              "      --fill-color: #1967D2;\n",
              "      --hover-bg-color: #E2EBFA;\n",
              "      --hover-fill-color: #174EA6;\n",
              "      --disabled-fill-color: #AAA;\n",
              "      --disabled-bg-color: #DDD;\n",
              "  }\n",
              "\n",
              "  [theme=dark] .colab-df-quickchart {\n",
              "      --bg-color: #3B4455;\n",
              "      --fill-color: #D2E3FC;\n",
              "      --hover-bg-color: #434B5C;\n",
              "      --hover-fill-color: #FFFFFF;\n",
              "      --disabled-bg-color: #3B4455;\n",
              "      --disabled-fill-color: #666;\n",
              "  }\n",
              "\n",
              "  .colab-df-quickchart {\n",
              "    background-color: var(--bg-color);\n",
              "    border: none;\n",
              "    border-radius: 50%;\n",
              "    cursor: pointer;\n",
              "    display: none;\n",
              "    fill: var(--fill-color);\n",
              "    height: 32px;\n",
              "    padding: 0;\n",
              "    width: 32px;\n",
              "  }\n",
              "\n",
              "  .colab-df-quickchart:hover {\n",
              "    background-color: var(--hover-bg-color);\n",
              "    box-shadow: 0 1px 2px rgba(60, 64, 67, 0.3), 0 1px 3px 1px rgba(60, 64, 67, 0.15);\n",
              "    fill: var(--button-hover-fill-color);\n",
              "  }\n",
              "\n",
              "  .colab-df-quickchart-complete:disabled,\n",
              "  .colab-df-quickchart-complete:disabled:hover {\n",
              "    background-color: var(--disabled-bg-color);\n",
              "    fill: var(--disabled-fill-color);\n",
              "    box-shadow: none;\n",
              "  }\n",
              "\n",
              "  .colab-df-spinner {\n",
              "    border: 2px solid var(--fill-color);\n",
              "    border-color: transparent;\n",
              "    border-bottom-color: var(--fill-color);\n",
              "    animation:\n",
              "      spin 1s steps(1) infinite;\n",
              "  }\n",
              "\n",
              "  @keyframes spin {\n",
              "    0% {\n",
              "      border-color: transparent;\n",
              "      border-bottom-color: var(--fill-color);\n",
              "      border-left-color: var(--fill-color);\n",
              "    }\n",
              "    20% {\n",
              "      border-color: transparent;\n",
              "      border-left-color: var(--fill-color);\n",
              "      border-top-color: var(--fill-color);\n",
              "    }\n",
              "    30% {\n",
              "      border-color: transparent;\n",
              "      border-left-color: var(--fill-color);\n",
              "      border-top-color: var(--fill-color);\n",
              "      border-right-color: var(--fill-color);\n",
              "    }\n",
              "    40% {\n",
              "      border-color: transparent;\n",
              "      border-right-color: var(--fill-color);\n",
              "      border-top-color: var(--fill-color);\n",
              "    }\n",
              "    60% {\n",
              "      border-color: transparent;\n",
              "      border-right-color: var(--fill-color);\n",
              "    }\n",
              "    80% {\n",
              "      border-color: transparent;\n",
              "      border-right-color: var(--fill-color);\n",
              "      border-bottom-color: var(--fill-color);\n",
              "    }\n",
              "    90% {\n",
              "      border-color: transparent;\n",
              "      border-bottom-color: var(--fill-color);\n",
              "    }\n",
              "  }\n",
              "</style>\n",
              "\n",
              "  <script>\n",
              "    async function quickchart(key) {\n",
              "      const quickchartButtonEl =\n",
              "        document.querySelector('#' + key + ' button');\n",
              "      quickchartButtonEl.disabled = true;  // To prevent multiple clicks.\n",
              "      quickchartButtonEl.classList.add('colab-df-spinner');\n",
              "      try {\n",
              "        const charts = await google.colab.kernel.invokeFunction(\n",
              "            'suggestCharts', [key], {});\n",
              "      } catch (error) {\n",
              "        console.error('Error during call to suggestCharts:', error);\n",
              "      }\n",
              "      quickchartButtonEl.classList.remove('colab-df-spinner');\n",
              "      quickchartButtonEl.classList.add('colab-df-quickchart-complete');\n",
              "    }\n",
              "    (() => {\n",
              "      let quickchartButtonEl =\n",
              "        document.querySelector('#df-d5dd79f0-f7a2-4b8d-b541-a7af384c0946 button');\n",
              "      quickchartButtonEl.style.display =\n",
              "        google.colab.kernel.accessAllowed ? 'block' : 'none';\n",
              "    })();\n",
              "  </script>\n",
              "</div>\n",
              "\n",
              "    </div>\n",
              "  </div>\n"
            ],
            "application/vnd.google.colaboratory.intrinsic+json": {
              "type": "dataframe",
              "summary": "{\n  \"name\": \"dataset\",\n  \"rows\": 1554,\n  \"fields\": [\n    {\n      \"column\": \"Age\",\n      \"properties\": {\n        \"dtype\": \"number\",\n        \"std\": 17,\n        \"min\": 18,\n        \"max\": 69,\n        \"num_unique_values\": 44,\n        \"samples\": [\n          55,\n          44,\n          46\n        ],\n        \"semantic_type\": \"\",\n        \"description\": \"\"\n      }\n    },\n    {\n      \"column\": \"Salary\",\n      \"properties\": {\n        \"dtype\": \"number\",\n        \"std\": 21209,\n        \"min\": 20000,\n        \"max\": 96000,\n        \"num_unique_values\": 30,\n        \"samples\": [\n          52000,\n          63000,\n          95000\n        ],\n        \"semantic_type\": \"\",\n        \"description\": \"\"\n      }\n    }\n  ]\n}"
            }
          },
          "metadata": {},
          "execution_count": 61
        }
      ]
    },
    {
      "cell_type": "code",
      "source": [
        "X = dataset.iloc[:, :-1].values\n",
        "X"
      ],
      "metadata": {
        "colab": {
          "base_uri": "https://localhost:8080/"
        },
        "id": "D7uUPom8qrsD",
        "outputId": "116e7263-eb5d-4164-ec2b-04012fe0bb84"
      },
      "execution_count": null,
      "outputs": [
        {
          "output_type": "execute_result",
          "data": {
            "text/plain": [
              "array([[   18, 20000],\n",
              "       [   19, 22000],\n",
              "       [   20, 24000],\n",
              "       ...,\n",
              "       [   68, 80000],\n",
              "       [   69, 90000],\n",
              "       [   60, 96000]])"
            ]
          },
          "metadata": {},
          "execution_count": 63
        }
      ]
    },
    {
      "cell_type": "code",
      "source": [
        "X = dataset.iloc[:, :-1].values # tmaaam ki tmaam rows, then aakhri column k ilava tmam columns. sirf values lo, indices nahi.\n",
        "\n",
        "y = dataset.iloc[:,-1].values # just last column ki values\n"
      ],
      "metadata": {
        "id": "qggySJ2yqm3L"
      },
      "execution_count": null,
      "outputs": []
    },
    {
      "cell_type": "code",
      "source": [
        "from sklearn.model_selection import train_test_split\n",
        "\n",
        "X_train, X_test, y_train, y_test = train_test_split(X, y, test_size =0.2, random_state=0)\n"
      ],
      "metadata": {
        "id": "Q7DblvdKrMFx"
      },
      "execution_count": null,
      "outputs": []
    },
    {
      "cell_type": "code",
      "source": [
        "type(X_train)"
      ],
      "metadata": {
        "colab": {
          "base_uri": "https://localhost:8080/"
        },
        "id": "vczVq40WrY_2",
        "outputId": "dd10ef97-48b7-40b0-dbf3-91a42be73ed5"
      },
      "execution_count": null,
      "outputs": [
        {
          "output_type": "execute_result",
          "data": {
            "text/plain": [
              "numpy.ndarray"
            ]
          },
          "metadata": {},
          "execution_count": 67
        }
      ]
    },
    {
      "cell_type": "code",
      "source": [
        "X_train"
      ],
      "metadata": {
        "colab": {
          "base_uri": "https://localhost:8080/"
        },
        "id": "8IzQCWAgrbwy",
        "outputId": "a40698da-1e54-43ec-f5f2-9083ea1884ad"
      },
      "execution_count": null,
      "outputs": [
        {
          "output_type": "execute_result",
          "data": {
            "text/plain": [
              "array([[   43, 62000],\n",
              "       [   66, 46000],\n",
              "       [   26, 66000],\n",
              "       ...,\n",
              "       [   67, 66000],\n",
              "       [   28, 62000],\n",
              "       [   22, 27000]])"
            ]
          },
          "metadata": {},
          "execution_count": 68
        }
      ]
    },
    {
      "cell_type": "code",
      "source": [
        "X_train.shape"
      ],
      "metadata": {
        "colab": {
          "base_uri": "https://localhost:8080/"
        },
        "id": "ZBZfRiCbrf4a",
        "outputId": "89bd0024-0d00-450e-eace-0689fab325be"
      },
      "execution_count": null,
      "outputs": [
        {
          "output_type": "execute_result",
          "data": {
            "text/plain": [
              "(1243, 2)"
            ]
          },
          "metadata": {},
          "execution_count": 69
        }
      ]
    },
    {
      "cell_type": "code",
      "source": [
        "from sklearn.preprocessing import StandardScaler\n",
        "sc = StandardScaler()\n",
        "\n",
        "X_train = sc.fit_transform(X_train) # i guess\n",
        "X_test  = sc.transform(X_test)\n"
      ],
      "metadata": {
        "id": "K6zmdHcerhaU"
      },
      "execution_count": null,
      "outputs": []
    },
    {
      "cell_type": "code",
      "source": [
        "# The code snippet you provided is a common preprocessing step in machine learning, where data is standardized before training a model. Here's a detailed breakdown of what each line does:\n",
        "\n",
        "# 1. **Importing the StandardScaler:**\n",
        "#    ```python\n",
        "#    from sklearn.preprocessing import StandardScaler\n",
        "#    ```\n",
        "#    This line imports the `StandardScaler` class from the `sklearn.preprocessing` module. The `StandardScaler` is used to standardize features by removing the mean and scaling to unit variance.\n",
        "\n",
        "# 2. **Creating an instance of StandardScaler:**\n",
        "#    ```python\n",
        "#    sc = StandardScaler()\n",
        "#    ```\n",
        "#    Here, an instance of the `StandardScaler` is created and assigned to the variable `sc`. This scaler will be used to fit and transform the data.\n",
        "\n",
        "# 3. **Fitting and transforming the training data:**\n",
        "#    ```python\n",
        "#    X_train = sc.fit_transform(X_train)\n",
        "#    ```\n",
        "#    This line does two things:\n",
        "#    - **Fit:** `sc.fit(X_train)` computes the mean and standard deviation of `X_train`.\n",
        "#    - **Transform:** `sc.transform(X_train)` standardizes `X_train` by subtracting the mean and dividing by the standard deviation for each feature.\n",
        "\n",
        "#    The `fit_transform` method is a convenient combination of `fit` and `transform`, performing both steps in one go. The transformed training data replaces the original `X_train`.\n",
        "\n",
        "# 4. **Transforming the test data:**\n",
        "#    ```python\n",
        "#    X_test  = sc.transform(X_test)\n",
        "#    ```\n",
        "#    This line uses the mean and standard deviation computed from the training data (`X_train`) to transform the test data (`X_test`). It's crucial to use the same parameters (mean and standard deviation) for both training and test data to ensure consistency.\n",
        "\n",
        "# ### Why Standardize the Data?\n",
        "\n",
        "# Standardizing the data is a common preprocessing step for many machine learning algorithms because:\n",
        "# - **Improves Convergence Speed:** Gradient-based algorithms, such as gradient descent, converge faster on standardized data.\n",
        "# - **Equal Weighting:** Ensures that all features contribute equally to the result, preventing features with larger scales from dominating the model.\n",
        "# - **Enhances Model Performance:** Some algorithms assume that the data is centered around zero and has a unit variance, and they perform better with standardized data (e.g., support vector machines, k-nearest neighbors, and neural networks).\n",
        "\n"
      ],
      "metadata": {
        "id": "YjYuv3Fyr_L7"
      },
      "execution_count": null,
      "outputs": []
    },
    {
      "cell_type": "code",
      "source": [
        "X_train[:,0].mean()\n"
      ],
      "metadata": {
        "colab": {
          "base_uri": "https://localhost:8080/"
        },
        "id": "mKetlm-rrp76",
        "outputId": "f643de91-04b7-483b-f034-a8a1bf326d70"
      },
      "execution_count": null,
      "outputs": [
        {
          "output_type": "execute_result",
          "data": {
            "text/plain": [
              "5.716353465487532e-17"
            ]
          },
          "metadata": {},
          "execution_count": 71
        }
      ]
    },
    {
      "cell_type": "code",
      "source": [
        "X_train"
      ],
      "metadata": {
        "colab": {
          "base_uri": "https://localhost:8080/"
        },
        "id": "Nw6GytAfrrWs",
        "outputId": "cc42f932-fd6e-490d-e6ad-49a948bf2059"
      },
      "execution_count": null,
      "outputs": [
        {
          "output_type": "execute_result",
          "data": {
            "text/plain": [
              "array([[-0.09347628,  0.22152545],\n",
              "       [ 1.22167788, -0.53416893],\n",
              "       [-1.06554674,  0.41044905],\n",
              "       ...,\n",
              "       [ 1.2788585 ,  0.41044905],\n",
              "       [-0.95118551,  0.22152545],\n",
              "       [-1.2942692 , -1.431556  ]])"
            ]
          },
          "metadata": {},
          "execution_count": 72
        }
      ]
    },
    {
      "cell_type": "code",
      "source": [
        "X_test[:,0].mean()\n"
      ],
      "metadata": {
        "colab": {
          "base_uri": "https://localhost:8080/"
        },
        "id": "y1xpqA83r00E",
        "outputId": "7c598a23-0903-4047-fd8f-12a088b9f1a2"
      },
      "execution_count": null,
      "outputs": [
        {
          "output_type": "execute_result",
          "data": {
            "text/plain": [
              "-0.09678576465624485"
            ]
          },
          "metadata": {},
          "execution_count": 74
        }
      ]
    },
    {
      "cell_type": "code",
      "source": [
        "Xtrain_ = torch.from_numpy(X_train).float()\n",
        "Xtest_  = torch.from_numpy(X_test).float()"
      ],
      "metadata": {
        "id": "JVmT1DeUsivx"
      },
      "execution_count": null,
      "outputs": []
    },
    {
      "cell_type": "code",
      "source": [
        "Xtrain_\n"
      ],
      "metadata": {
        "colab": {
          "base_uri": "https://localhost:8080/"
        },
        "id": "PoazcmZ4suLd",
        "outputId": "6fd35203-f66b-4903-e384-daad5764f8bb"
      },
      "execution_count": null,
      "outputs": [
        {
          "output_type": "execute_result",
          "data": {
            "text/plain": [
              "tensor([[-0.0935,  0.2215],\n",
              "        [ 1.2217, -0.5342],\n",
              "        [-1.0655,  0.4104],\n",
              "        ...,\n",
              "        [ 1.2789,  0.4104],\n",
              "        [-0.9512,  0.2215],\n",
              "        [-1.2943, -1.4316]])"
            ]
          },
          "metadata": {},
          "execution_count": 76
        }
      ]
    },
    {
      "cell_type": "code",
      "source": [
        "ytrain_ = torch.from_numpy(y_train)\n",
        "ytest_  = torch.from_numpy(y_test)\n"
      ],
      "metadata": {
        "id": "WNk6APyPsx6t"
      },
      "execution_count": null,
      "outputs": []
    },
    {
      "cell_type": "code",
      "source": [
        "ytrain_"
      ],
      "metadata": {
        "colab": {
          "base_uri": "https://localhost:8080/"
        },
        "id": "kTZ33dMBs2I6",
        "outputId": "26cedbc5-2f88-47dd-d25d-72e035482f80"
      },
      "execution_count": null,
      "outputs": [
        {
          "output_type": "execute_result",
          "data": {
            "text/plain": [
              "tensor([1, 1, 1,  ..., 1, 1, 0])"
            ]
          },
          "metadata": {},
          "execution_count": 78
        }
      ]
    },
    {
      "cell_type": "code",
      "source": [
        "ytrain_.shape"
      ],
      "metadata": {
        "colab": {
          "base_uri": "https://localhost:8080/"
        },
        "id": "j41rjZrMsz-s",
        "outputId": "22b4453a-1777-4ecb-b564-3b0e27cf3d45"
      },
      "execution_count": null,
      "outputs": [
        {
          "output_type": "execute_result",
          "data": {
            "text/plain": [
              "torch.Size([1243])"
            ]
          },
          "metadata": {},
          "execution_count": 79
        }
      ]
    },
    {
      "cell_type": "code",
      "source": [
        "ytrain_.dim()"
      ],
      "metadata": {
        "colab": {
          "base_uri": "https://localhost:8080/"
        },
        "id": "1tZ7rucys8Xb",
        "outputId": "78ae71c6-495f-4e5f-8d8d-2d90ea7c68bd"
      },
      "execution_count": null,
      "outputs": [
        {
          "output_type": "execute_result",
          "data": {
            "text/plain": [
              "1"
            ]
          },
          "metadata": {},
          "execution_count": 80
        }
      ]
    },
    {
      "cell_type": "code",
      "source": [
        "Xtrain_.shape, ytrain_.shape"
      ],
      "metadata": {
        "colab": {
          "base_uri": "https://localhost:8080/"
        },
        "id": "B5G-azj5s5-o",
        "outputId": "90b145d9-396b-4b67-bf6c-cbb148b33d49"
      },
      "execution_count": null,
      "outputs": [
        {
          "output_type": "execute_result",
          "data": {
            "text/plain": [
              "(torch.Size([1243, 2]), torch.Size([1243]))"
            ]
          },
          "metadata": {},
          "execution_count": 81
        }
      ]
    },
    {
      "cell_type": "code",
      "source": [
        "Xtest_.shape, ytest_.shape"
      ],
      "metadata": {
        "colab": {
          "base_uri": "https://localhost:8080/"
        },
        "id": "kra_LfTTt5Ap",
        "outputId": "b253482e-025e-4688-aa1a-4b2439587136"
      },
      "execution_count": null,
      "outputs": [
        {
          "output_type": "execute_result",
          "data": {
            "text/plain": [
              "(torch.Size([311, 2]), torch.Size([311]))"
            ]
          },
          "metadata": {},
          "execution_count": 82
        }
      ]
    },
    {
      "cell_type": "code",
      "source": [
        "input_size  = 2    # age and salary\n",
        "output_size = 2    # 0,1 whether the customer is buying or not?\n",
        "hidden_size = 10   # 10 neurons in each hidden layer\n"
      ],
      "metadata": {
        "id": "zA9_4mbztB_o"
      },
      "execution_count": null,
      "outputs": []
    },
    {
      "cell_type": "code",
      "source": [
        "# fc: fully conected\n",
        "\n",
        "class Net(nn.Module):\n",
        "   def __init__(self):\n",
        "       super(Net, self).__init__()\n",
        "       self.fc1 = torch.nn.Linear(input_size, hidden_size)\n",
        "       self.fc2 = torch.nn.Linear(hidden_size, hidden_size)\n",
        "       self.fc3 = torch.nn.Linear(hidden_size, output_size)\n",
        "\n",
        "\n",
        "   def forward(self, X):\n",
        "       X = self.fc1(X)\n",
        "       X = torch.relu(X)\n",
        "\n",
        "       X = self.fc2(X)\n",
        "       X = torch.relu(X)\n",
        "\n",
        "       X = self.fc3(X)\n",
        "       return F.log_softmax(X, dim=1)\n",
        "\n"
      ],
      "metadata": {
        "id": "YN8V5zkStJ5v"
      },
      "execution_count": null,
      "outputs": []
    },
    {
      "cell_type": "code",
      "source": [
        "model = Net()\n"
      ],
      "metadata": {
        "id": "BZ9bPnjatod8"
      },
      "execution_count": null,
      "outputs": []
    },
    {
      "cell_type": "code",
      "source": [
        "import torch.optim as optim\n",
        "\n",
        "optimizer = torch.optim.Adam(model.parameters(), lr=0.01)\n",
        "loss_fn   = nn.NLLLoss() # negative log likelihood loss\n"
      ],
      "metadata": {
        "id": "eOMbEpe3ulKN"
      },
      "execution_count": null,
      "outputs": []
    },
    {
      "cell_type": "code",
      "source": [
        "epochs = 100\n",
        "\n",
        "for epoch in range(epochs):\n",
        "  optimizer.zero_grad()        # for each epoch we zero the gradients??\n",
        "\n",
        "  Ypred = model(Xtrain_)       # making predictions\n",
        "\n",
        "  loss  = loss_fn(Ypred,  ytrain_)  # computing loss b/w preds and true labels\n",
        "\n",
        "  loss.backward()                   # perform back propagation?\n",
        "\n",
        "  optimizer.step()                  # updating the model parameters?\n",
        "\n",
        "  print('Epoch',epoch, 'loss',loss.item())\n",
        "\n"
      ],
      "metadata": {
        "colab": {
          "base_uri": "https://localhost:8080/"
        },
        "id": "JGaEYvEku3JY",
        "outputId": "a00c022e-d05b-4120-d220-88b7d4950f19"
      },
      "execution_count": null,
      "outputs": [
        {
          "output_type": "stream",
          "name": "stdout",
          "text": [
            "Epoch 0 loss 0.6417160630226135\n",
            "Epoch 1 loss 0.6198132038116455\n",
            "Epoch 2 loss 0.5994070172309875\n",
            "Epoch 3 loss 0.5802884101867676\n",
            "Epoch 4 loss 0.5616825222969055\n",
            "Epoch 5 loss 0.5434765815734863\n",
            "Epoch 6 loss 0.5259281992912292\n",
            "Epoch 7 loss 0.5094735622406006\n",
            "Epoch 8 loss 0.4944007694721222\n",
            "Epoch 9 loss 0.4803772568702698\n",
            "Epoch 10 loss 0.467196524143219\n",
            "Epoch 11 loss 0.4543963670730591\n",
            "Epoch 12 loss 0.44128426909446716\n",
            "Epoch 13 loss 0.42745867371559143\n",
            "Epoch 14 loss 0.4131253659725189\n",
            "Epoch 15 loss 0.39863190054893494\n",
            "Epoch 16 loss 0.38436630368232727\n",
            "Epoch 17 loss 0.37003839015960693\n",
            "Epoch 18 loss 0.35587677359580994\n",
            "Epoch 19 loss 0.3421550989151001\n",
            "Epoch 20 loss 0.32884302735328674\n",
            "Epoch 21 loss 0.31595078110694885\n",
            "Epoch 22 loss 0.30339258909225464\n",
            "Epoch 23 loss 0.2912221848964691\n",
            "Epoch 24 loss 0.2792917788028717\n",
            "Epoch 25 loss 0.2675914466381073\n",
            "Epoch 26 loss 0.2562026381492615\n",
            "Epoch 27 loss 0.24520766735076904\n",
            "Epoch 28 loss 0.2348089963197708\n",
            "Epoch 29 loss 0.22513382136821747\n",
            "Epoch 30 loss 0.21627338230609894\n",
            "Epoch 31 loss 0.20823201537132263\n",
            "Epoch 32 loss 0.20094968378543854\n",
            "Epoch 33 loss 0.19436687231063843\n",
            "Epoch 34 loss 0.18841105699539185\n",
            "Epoch 35 loss 0.18303942680358887\n",
            "Epoch 36 loss 0.17819488048553467\n",
            "Epoch 37 loss 0.1738577038049698\n",
            "Epoch 38 loss 0.1700173020362854\n",
            "Epoch 39 loss 0.16663876175880432\n",
            "Epoch 40 loss 0.1636779010295868\n",
            "Epoch 41 loss 0.1609642207622528\n",
            "Epoch 42 loss 0.15849967300891876\n",
            "Epoch 43 loss 0.1562301069498062\n",
            "Epoch 44 loss 0.1541348397731781\n",
            "Epoch 45 loss 0.15219765901565552\n",
            "Epoch 46 loss 0.15040583908557892\n",
            "Epoch 47 loss 0.1487451195716858\n",
            "Epoch 48 loss 0.14719244837760925\n",
            "Epoch 49 loss 0.145718052983284\n",
            "Epoch 50 loss 0.14429248869419098\n",
            "Epoch 51 loss 0.14282947778701782\n",
            "Epoch 52 loss 0.1413412243127823\n",
            "Epoch 53 loss 0.13979670405387878\n",
            "Epoch 54 loss 0.13824598491191864\n",
            "Epoch 55 loss 0.13671471178531647\n",
            "Epoch 56 loss 0.13519373536109924\n",
            "Epoch 57 loss 0.13367018103599548\n",
            "Epoch 58 loss 0.13216844201087952\n",
            "Epoch 59 loss 0.13070136308670044\n",
            "Epoch 60 loss 0.1292852759361267\n",
            "Epoch 61 loss 0.12793301045894623\n",
            "Epoch 62 loss 0.12663786113262177\n",
            "Epoch 63 loss 0.1253410130739212\n",
            "Epoch 64 loss 0.12427440285682678\n",
            "Epoch 65 loss 0.12322293221950531\n",
            "Epoch 66 loss 0.12217581272125244\n",
            "Epoch 67 loss 0.12115620821714401\n",
            "Epoch 68 loss 0.1201697364449501\n",
            "Epoch 69 loss 0.11921888589859009\n",
            "Epoch 70 loss 0.1182883158326149\n",
            "Epoch 71 loss 0.11767887324094772\n",
            "Epoch 72 loss 0.11719007790088654\n",
            "Epoch 73 loss 0.11684684455394745\n",
            "Epoch 74 loss 0.11650225520133972\n",
            "Epoch 75 loss 0.11614332348108292\n",
            "Epoch 76 loss 0.11576902121305466\n",
            "Epoch 77 loss 0.11538383364677429\n",
            "Epoch 78 loss 0.11498811095952988\n",
            "Epoch 79 loss 0.11460179090499878\n",
            "Epoch 80 loss 0.11430222541093826\n",
            "Epoch 81 loss 0.11401871591806412\n",
            "Epoch 82 loss 0.11375588923692703\n",
            "Epoch 83 loss 0.11350668221712112\n",
            "Epoch 84 loss 0.11326709389686584\n",
            "Epoch 85 loss 0.1130376011133194\n",
            "Epoch 86 loss 0.1128222718834877\n",
            "Epoch 87 loss 0.11261715739965439\n",
            "Epoch 88 loss 0.11242768913507462\n",
            "Epoch 89 loss 0.11229468137025833\n",
            "Epoch 90 loss 0.11216448247432709\n",
            "Epoch 91 loss 0.11203112453222275\n",
            "Epoch 92 loss 0.11189302057027817\n",
            "Epoch 93 loss 0.11175087839365005\n",
            "Epoch 94 loss 0.11162494122982025\n",
            "Epoch 95 loss 0.11152506619691849\n",
            "Epoch 96 loss 0.11142697930335999\n",
            "Epoch 97 loss 0.11132915318012238\n",
            "Epoch 98 loss 0.11123345792293549\n",
            "Epoch 99 loss 0.11114040017127991\n"
          ]
        }
      ]
    },
    {
      "cell_type": "code",
      "source": [
        "model.parameters()\n"
      ],
      "metadata": {
        "colab": {
          "base_uri": "https://localhost:8080/"
        },
        "id": "5wtRx2GHvF6w",
        "outputId": "36055c3e-3a29-4b60-e67a-a40d65ebe136"
      },
      "execution_count": null,
      "outputs": [
        {
          "output_type": "execute_result",
          "data": {
            "text/plain": [
              "<generator object Module.parameters at 0x7e991d434270>"
            ]
          },
          "metadata": {},
          "execution_count": 91
        }
      ]
    },
    {
      "cell_type": "code",
      "source": [
        "list(model.parameters())\n"
      ],
      "metadata": {
        "colab": {
          "base_uri": "https://localhost:8080/"
        },
        "id": "EtHndq5WvwC-",
        "outputId": "920ea913-0c6d-45a0-bb86-282cb009950f"
      },
      "execution_count": null,
      "outputs": [
        {
          "output_type": "execute_result",
          "data": {
            "text/plain": [
              "[Parameter containing:\n",
              " tensor([[-0.3202, -1.1367],\n",
              "         [ 0.3134,  0.2634],\n",
              "         [ 0.2629, -0.4789],\n",
              "         [ 0.0781,  1.2295],\n",
              "         [ 1.2807,  0.2486],\n",
              "         [-0.5165, -1.1084],\n",
              "         [ 0.0060, -0.0555],\n",
              "         [-0.4958, -0.5429],\n",
              "         [ 1.1965, -0.2506],\n",
              "         [-0.3053, -0.2932]], requires_grad=True),\n",
              " Parameter containing:\n",
              " tensor([ 0.2008,  0.5617,  0.8682,  0.9220,  0.3327,  0.1238, -0.2029,  0.7927,\n",
              "          0.0414,  0.6984], requires_grad=True),\n",
              " Parameter containing:\n",
              " tensor([[ 0.5158, -0.1899,  0.1639, -0.5733, -1.0672,  0.5922, -0.0826,  0.3650,\n",
              "          -0.6781,  0.2393],\n",
              "         [-0.1378, -0.2800,  0.1345, -0.1762, -0.0192,  0.0210,  0.1534,  0.0748,\n",
              "          -0.0774, -0.0334],\n",
              "         [ 0.3396,  0.2439,  0.1026, -0.1708, -0.3734,  0.3170, -0.0458,  0.4877,\n",
              "          -0.6105,  0.0167],\n",
              "         [-0.1296,  0.3690,  0.3704,  0.7616,  0.8148, -0.0041, -0.0108,  0.4546,\n",
              "           0.8923,  0.4167],\n",
              "         [-0.2316,  0.0237, -0.1350, -0.1249, -0.2002, -0.0924, -0.0987, -0.2967,\n",
              "          -0.2658, -0.1566],\n",
              "         [-0.0524, -0.0164, -0.3023, -0.1287, -0.2625,  0.2557,  0.2503, -0.0396,\n",
              "          -0.0356, -0.3198],\n",
              "         [ 0.1440, -0.2057,  0.7200, -0.5039, -1.2319,  0.3075, -0.2068,  0.3886,\n",
              "          -0.8392,  0.2164],\n",
              "         [-0.3026,  0.0653, -0.0733, -0.2565, -0.2369, -0.4011, -0.0668, -0.3764,\n",
              "          -0.4642,  0.0527],\n",
              "         [ 0.2285, -0.1937,  0.3748, -0.3734, -1.1374,  0.3368, -0.0385,  0.4033,\n",
              "          -0.4327,  0.4219],\n",
              "         [-0.1525,  0.1771, -0.2743, -0.2881, -0.3189, -0.2807, -0.1491, -0.3444,\n",
              "           0.1701,  0.0549]], requires_grad=True),\n",
              " Parameter containing:\n",
              " tensor([ 0.1116, -0.2700, -0.3385,  0.2917, -0.0730, -0.2756,  0.0666,  0.0936,\n",
              "         -0.1834,  0.1377], requires_grad=True),\n",
              " Parameter containing:\n",
              " tensor([[ 0.2614,  0.0215,  0.4197, -0.7728,  0.2291,  0.1712,  0.7140,  0.1580,\n",
              "           0.4109,  0.0978],\n",
              "         [-0.4960, -0.1735, -0.5871,  0.5079,  0.0487,  0.2519, -0.2492,  0.1757,\n",
              "          -0.4102,  0.2423]], requires_grad=True),\n",
              " Parameter containing:\n",
              " tensor([-0.6386,  0.6311], requires_grad=True)]"
            ]
          },
          "metadata": {},
          "execution_count": 92
        }
      ]
    },
    {
      "cell_type": "code",
      "source": [],
      "metadata": {
        "id": "IdgKCU8Gv0fP"
      },
      "execution_count": null,
      "outputs": []
    },
    {
      "cell_type": "markdown",
      "source": [
        "# Making predictions"
      ],
      "metadata": {
        "id": "QZ4tiPNawJQk"
      }
    },
    {
      "cell_type": "code",
      "source": [
        "torch.from_numpy(sc.transform(np.array([[40,20000]]))).float()  # age=20, salary= 20k\n"
      ],
      "metadata": {
        "colab": {
          "base_uri": "https://localhost:8080/"
        },
        "id": "mR0UUlQav9sI",
        "outputId": "caec8b5b-ded4-4227-adbf-7f8ec4583197"
      },
      "execution_count": null,
      "outputs": [
        {
          "output_type": "execute_result",
          "data": {
            "text/plain": [
              "tensor([[-0.2650, -1.7622]])"
            ]
          },
          "metadata": {},
          "execution_count": 94
        }
      ]
    },
    {
      "cell_type": "code",
      "source": [
        "y_cust_20_40000 = model(torch.from_numpy(sc.transform(np.array([[40,20000]]))).float())\n",
        "y_cust_20_40000\n",
        "\n",
        "# [0, 1]\n",
        "# in our case higher probability associated with zero i.e less -ive\n"
      ],
      "metadata": {
        "colab": {
          "base_uri": "https://localhost:8080/"
        },
        "id": "1FhoyJnqwRIP",
        "outputId": "6fc4f58e-3cd4-47dc-ccc9-a5ab986fc565"
      },
      "execution_count": null,
      "outputs": [
        {
          "output_type": "execute_result",
          "data": {
            "text/plain": [
              "tensor([[-1.6375e-03, -6.4154e+00]], grad_fn=<LogSoftmaxBackward0>)"
            ]
          },
          "metadata": {},
          "execution_count": 96
        }
      ]
    },
    {
      "cell_type": "code",
      "source": [
        "_, predicted_20_40000 = torch.max(y_cust_20_40000.data,-1)\n",
        "predicted_20_40000\n",
        "# not gonna buy\n"
      ],
      "metadata": {
        "colab": {
          "base_uri": "https://localhost:8080/"
        },
        "id": "oCWJ8sECwZ72",
        "outputId": "925749a5-018a-4f4b-848c-a85a02c484fe"
      },
      "execution_count": null,
      "outputs": [
        {
          "output_type": "execute_result",
          "data": {
            "text/plain": [
              "tensor([0])"
            ]
          },
          "metadata": {},
          "execution_count": 97
        }
      ]
    },
    {
      "cell_type": "code",
      "source": [
        "y_cust_42_50000 = model(torch.from_numpy(sc.transform(np.array([[42,50000]]))).float())\n",
        "y_cust_42_50000\n"
      ],
      "metadata": {
        "colab": {
          "base_uri": "https://localhost:8080/"
        },
        "id": "62epp0RGw9Rh",
        "outputId": "da958685-0103-41dc-f9a0-88f4c175b2d0"
      },
      "execution_count": null,
      "outputs": [
        {
          "output_type": "execute_result",
          "data": {
            "text/plain": [
              "tensor([[-0.8176, -0.5825]], grad_fn=<LogSoftmaxBackward0>)"
            ]
          },
          "metadata": {},
          "execution_count": 98
        }
      ]
    },
    {
      "cell_type": "code",
      "source": [
        "_, predicted_42_50000 = torch.max(y_cust_42_50000.data,-1)\n",
        "predicted_42_50000\n"
      ],
      "metadata": {
        "colab": {
          "base_uri": "https://localhost:8080/"
        },
        "id": "bnKao48SxMQN",
        "outputId": "18f0f996-2119-4dea-8413-05bb4478169d"
      },
      "execution_count": null,
      "outputs": [
        {
          "output_type": "execute_result",
          "data": {
            "text/plain": [
              "tensor([1])"
            ]
          },
          "metadata": {},
          "execution_count": 99
        }
      ]
    },
    {
      "cell_type": "markdown",
      "source": [
        "### Saving the model"
      ],
      "metadata": {
        "id": "dkRjGfDlyXNH"
      }
    },
    {
      "cell_type": "code",
      "source": [
        "#torch.save(model,'customer_buy.pt') # pt: pytorch\n"
      ],
      "metadata": {
        "id": "l87ZkL7txPNi"
      },
      "execution_count": null,
      "outputs": []
    },
    {
      "cell_type": "code",
      "source": [
        "# restored_model = torch.load('customer_buy.pt')"
      ],
      "metadata": {
        "id": "iDlFpQnPxYNi"
      },
      "execution_count": null,
      "outputs": []
    },
    {
      "cell_type": "code",
      "source": [
        "# y_cust_20_40000 = restored_model(torch.from_numpy(sc.transform(np.array([[40,20000]]))).float())\n",
        "# y_cust_20_40000"
      ],
      "metadata": {
        "id": "IybsCGFhxdH1"
      },
      "execution_count": null,
      "outputs": []
    },
    {
      "cell_type": "code",
      "source": [
        "# _, predicted_20_40000 = torch.max(y_cust_20_40000.data,-1)\n",
        "# predicted_20_40000"
      ],
      "metadata": {
        "id": "AhoFOofSxg9L"
      },
      "execution_count": null,
      "outputs": []
    },
    {
      "cell_type": "markdown",
      "source": [
        "### Can also save just the weights"
      ],
      "metadata": {
        "id": "_x1dRnUkybvv"
      }
    },
    {
      "cell_type": "code",
      "source": [
        "model.state_dict()\n"
      ],
      "metadata": {
        "colab": {
          "base_uri": "https://localhost:8080/"
        },
        "id": "_vKFa12WxhoO",
        "outputId": "2532803a-8a71-49f7-b675-a00d29c5110f"
      },
      "execution_count": null,
      "outputs": [
        {
          "output_type": "execute_result",
          "data": {
            "text/plain": [
              "OrderedDict([('fc1.weight',\n",
              "              tensor([[ 0.8351,  0.4225],\n",
              "                      [-0.0681,  1.0825],\n",
              "                      [-0.6282, -0.3714],\n",
              "                      [ 0.5764,  0.5442],\n",
              "                      [-0.7677,  0.7948],\n",
              "                      [ 0.9796,  0.1000],\n",
              "                      [-0.8526, -0.5954],\n",
              "                      [-0.1599,  0.0036],\n",
              "                      [ 0.1556,  0.8249],\n",
              "                      [ 0.0069, -1.1019]])),\n",
              "             ('fc1.bias',\n",
              "              tensor([ 0.4702,  0.6132,  1.0335,  0.3721,  0.3244,  0.3459,  0.1600, -0.3715,\n",
              "                       0.1002, -0.2381])),\n",
              "             ('fc2.weight',\n",
              "              tensor([[ 0.1620,  0.2613, -0.4059,  0.4108,  0.8249,  0.5653, -0.2541,  0.0541,\n",
              "                        0.3114,  0.2803],\n",
              "                      [ 0.0142, -0.1871,  0.0276, -0.1934, -0.1752,  0.1255, -0.3239,  0.0875,\n",
              "                        0.0983,  0.0590],\n",
              "                      [-0.9871, -0.7319,  0.8359, -1.2554, -0.5792, -0.9758,  0.2652, -0.1501,\n",
              "                       -0.3460,  0.6763],\n",
              "                      [-0.7339,  0.2611,  0.1600, -1.0439, -0.0384, -0.6357,  0.4473, -0.2324,\n",
              "                       -0.2939,  0.2521],\n",
              "                      [ 0.0478, -0.2417, -0.1436, -0.1349, -0.1856, -0.0465,  0.0934,  0.2211,\n",
              "                       -0.1518, -0.0723],\n",
              "                      [ 0.5939,  0.5234,  0.0252,  0.2726,  0.6064,  0.7434, -0.6860, -0.1084,\n",
              "                        0.1176,  0.2402],\n",
              "                      [ 0.5304,  0.5061, -0.1534,  0.3654,  0.3688,  0.5006, -0.2137,  0.2750,\n",
              "                        0.5477,  0.0780],\n",
              "                      [ 0.1657,  0.0685, -0.0643,  0.2421,  0.1181,  0.4584, -0.5232, -0.1306,\n",
              "                        0.3524, -0.1363],\n",
              "                      [-0.2750, -0.1990, -0.2910, -0.0812,  0.0257,  0.1699,  0.0067, -0.0370,\n",
              "                       -0.2174, -0.0319],\n",
              "                      [-0.2494, -0.0341, -0.2500,  0.0125,  0.0502, -0.1343, -0.0653, -0.1793,\n",
              "                       -0.0301,  0.0897]])),\n",
              "             ('fc2.bias',\n",
              "              tensor([ 0.6835, -0.2774,  0.5237,  0.1529, -0.0280,  0.5669,  0.4608,  0.5285,\n",
              "                      -0.0123, -0.0445])),\n",
              "             ('fc3.weight',\n",
              "              tensor([[-0.3047,  0.0853,  0.7818,  0.5308,  0.0451, -0.5605, -0.6708, -0.3811,\n",
              "                        0.1882, -0.2716],\n",
              "                      [ 0.8712,  0.0637, -0.4676, -0.3662,  0.1781,  0.4896,  0.3471,  0.4253,\n",
              "                       -0.2769, -0.2379]])),\n",
              "             ('fc3.bias', tensor([-0.0015,  0.0311]))])"
            ]
          },
          "metadata": {},
          "execution_count": 46
        }
      ]
    },
    {
      "cell_type": "code",
      "source": [
        "torch.save(model.state_dict(),'customer_buy_state_dict')\n"
      ],
      "metadata": {
        "id": "BWGBobKGxpju"
      },
      "execution_count": null,
      "outputs": []
    },
    {
      "cell_type": "markdown",
      "source": [
        "### Loading weights into a new model"
      ],
      "metadata": {
        "id": "zdGhXqIAyhhn"
      }
    },
    {
      "cell_type": "code",
      "source": [
        "new_predictor = Net()\n"
      ],
      "metadata": {
        "id": "eoDQlQ1Rx10s"
      },
      "execution_count": null,
      "outputs": []
    },
    {
      "cell_type": "code",
      "source": [
        "y_cust_20_40000 = new_predictor(torch.from_numpy(sc.transform(np.array([[40,20000]]))).float())\n",
        "y_cust_20_40000\n"
      ],
      "metadata": {
        "colab": {
          "base_uri": "https://localhost:8080/"
        },
        "id": "FYwoioi_x6gY",
        "outputId": "1b6aa686-3fba-417c-ac52-85cd4484e6a5"
      },
      "execution_count": null,
      "outputs": [
        {
          "output_type": "execute_result",
          "data": {
            "text/plain": [
              "tensor([[-0.6273, -0.7636]], grad_fn=<LogSoftmaxBackward0>)"
            ]
          },
          "metadata": {},
          "execution_count": 49
        }
      ]
    },
    {
      "cell_type": "code",
      "source": [
        "new_predictor.load_state_dict(torch.load('customer_buy_state_dict'))"
      ],
      "metadata": {
        "colab": {
          "base_uri": "https://localhost:8080/"
        },
        "id": "-hWXP_oXy8yh",
        "outputId": "8879043e-6825-45a1-d287-e887c1a301f6"
      },
      "execution_count": null,
      "outputs": [
        {
          "output_type": "execute_result",
          "data": {
            "text/plain": [
              "<All keys matched successfully>"
            ]
          },
          "metadata": {},
          "execution_count": 50
        }
      ]
    },
    {
      "cell_type": "code",
      "source": [
        "y_cust_20_40000 = new_predictor(torch.from_numpy(sc.transform(np.array([[40,20000]]))).float())\n",
        "y_cust_20_40000\n"
      ],
      "metadata": {
        "colab": {
          "base_uri": "https://localhost:8080/"
        },
        "id": "4wJ6BNM2zABA",
        "outputId": "a77aa2db-eff8-48c4-b775-5c654a117571"
      },
      "execution_count": null,
      "outputs": [
        {
          "output_type": "execute_result",
          "data": {
            "text/plain": [
              "tensor([[-3.1996e-03, -5.7463e+00]], grad_fn=<LogSoftmaxBackward0>)"
            ]
          },
          "metadata": {},
          "execution_count": 51
        }
      ]
    },
    {
      "cell_type": "code",
      "source": [
        "!zip -r customer_buy_state_dict.zip customer_buy_state_dict\n"
      ],
      "metadata": {
        "colab": {
          "base_uri": "https://localhost:8080/"
        },
        "id": "YGJiKwbTyBqr",
        "outputId": "8341a1a6-3d8b-405a-907c-50d62a0c7cb3"
      },
      "execution_count": null,
      "outputs": [
        {
          "output_type": "stream",
          "name": "stdout",
          "text": [
            "  adding: customer_buy_state_dict (deflated 52%)\n"
          ]
        }
      ]
    },
    {
      "cell_type": "code",
      "source": [
        "from google.colab import files\n"
      ],
      "metadata": {
        "id": "N0w_Q4QPyGXC"
      },
      "execution_count": null,
      "outputs": []
    },
    {
      "cell_type": "code",
      "source": [
        "# files.download('customer_buy_state_dict.zip')\n",
        "# # perfect"
      ],
      "metadata": {
        "id": "bFkJ1Q1ZzF0v"
      },
      "execution_count": null,
      "outputs": []
    },
    {
      "cell_type": "markdown",
      "source": [
        "# pytorch call backs\n",
        "\n",
        "https://chatgpt.com/share/1a49c819-c3a2-403d-9cf6-9fd6418d8afe"
      ],
      "metadata": {
        "id": "mIcAexoyiAP6"
      }
    },
    {
      "cell_type": "code",
      "source": [],
      "metadata": {
        "id": "xfB_OoiZiCm4"
      },
      "execution_count": null,
      "outputs": []
    }
  ]
}